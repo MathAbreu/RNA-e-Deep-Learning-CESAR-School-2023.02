{
  "cells": [
    {
      "cell_type": "markdown",
      "metadata": {
        "id": "gbTOc6cbl-eq"
      },
      "source": [
        "# Regressão Softmax com dados do MNIST utilizando gradiente descendente estocástico por minibatches"
      ]
    },
    {
      "cell_type": "markdown",
      "metadata": {
        "id": "C-IK0yRml-er"
      },
      "source": [
        "O objetivo deste notebook é ilustrar\n",
        "- o uso do gradiente estocástico por mini-batchs\n",
        "- utilizando as classes Dataset e DataLoater.\n",
        "\n",
        "A apresentação da perda nos gráficos é um pouco diferente da usual, mostrando a perda de cada um dos vários minibatches dentro de cada época, de forma que as épocas são apresentadas com valores fracionários."
      ]
    },
    {
      "cell_type": "markdown",
      "metadata": {
        "id": "mqqDXfr4l-et"
      },
      "source": [
        "## Importação das bibliotecas"
      ]
    },
    {
      "cell_type": "code",
      "execution_count": 1,
      "metadata": {
        "ExecuteTime": {
          "end_time": "2017-11-24T22:39:50.314578Z",
          "start_time": "2017-11-24T22:39:48.904460Z"
        },
        "id": "0Iry5pajl-eu"
      },
      "outputs": [],
      "source": [
        "%matplotlib inline\n",
        "import numpy as np\n",
        "import matplotlib.pyplot as plt\n",
        "\n",
        "import torch\n",
        "from torch.autograd import Variable\n",
        "from torch.utils.data import DataLoader\n",
        "\n",
        "import torchvision\n",
        "from torchvision.datasets import MNIST"
      ]
    },
    {
      "cell_type": "markdown",
      "metadata": {
        "id": "QqgILyIkl-ey"
      },
      "source": [
        "## Dataset e dataloader"
      ]
    },
    {
      "cell_type": "markdown",
      "metadata": {
        "id": "VAMBUN5ol-ez"
      },
      "source": [
        "### Definição do tamanho do minibatch"
      ]
    },
    {
      "cell_type": "code",
      "execution_count": 2,
      "metadata": {
        "ExecuteTime": {
          "end_time": "2017-11-24T22:39:50.323379Z",
          "start_time": "2017-11-24T22:39:50.318024Z"
        },
        "id": "1YGmeZtbl-ez"
      },
      "outputs": [],
      "source": [
        "batch_size = 1000"
      ]
    },
    {
      "cell_type": "markdown",
      "metadata": {
        "id": "3uaaezsvl-e5"
      },
      "source": [
        "### Carregamento, criação dataset e do dataloader"
      ]
    },
    {
      "cell_type": "code",
      "execution_count": 3,
      "metadata": {
        "ExecuteTime": {
          "end_time": "2017-11-24T22:39:50.400325Z",
          "start_time": "2017-11-24T22:39:50.326019Z"
        },
        "colab": {
          "base_uri": "https://localhost:8080/"
        },
        "id": "TRXgajEXl-e6",
        "outputId": "482b6c52-f7e5-4004-e99d-be630cc46acf"
      },
      "outputs": [
        {
          "output_type": "stream",
          "name": "stdout",
          "text": [
            "Downloading http://yann.lecun.com/exdb/mnist/train-images-idx3-ubyte.gz\n",
            "Failed to download (trying next):\n",
            "HTTP Error 403: Forbidden\n",
            "\n",
            "Downloading https://ossci-datasets.s3.amazonaws.com/mnist/train-images-idx3-ubyte.gz\n",
            "Downloading https://ossci-datasets.s3.amazonaws.com/mnist/train-images-idx3-ubyte.gz to MNIST/MNIST/raw/train-images-idx3-ubyte.gz\n"
          ]
        },
        {
          "output_type": "stream",
          "name": "stderr",
          "text": [
            "100%|██████████| 9912422/9912422 [00:00<00:00, 33133416.20it/s]\n"
          ]
        },
        {
          "output_type": "stream",
          "name": "stdout",
          "text": [
            "Extracting MNIST/MNIST/raw/train-images-idx3-ubyte.gz to MNIST/MNIST/raw\n",
            "\n",
            "Downloading http://yann.lecun.com/exdb/mnist/train-labels-idx1-ubyte.gz\n",
            "Failed to download (trying next):\n",
            "HTTP Error 403: Forbidden\n",
            "\n",
            "Downloading https://ossci-datasets.s3.amazonaws.com/mnist/train-labels-idx1-ubyte.gz\n",
            "Downloading https://ossci-datasets.s3.amazonaws.com/mnist/train-labels-idx1-ubyte.gz to MNIST/MNIST/raw/train-labels-idx1-ubyte.gz\n"
          ]
        },
        {
          "output_type": "stream",
          "name": "stderr",
          "text": [
            "100%|██████████| 28881/28881 [00:00<00:00, 1569013.58it/s]\n"
          ]
        },
        {
          "output_type": "stream",
          "name": "stdout",
          "text": [
            "Extracting MNIST/MNIST/raw/train-labels-idx1-ubyte.gz to MNIST/MNIST/raw\n",
            "\n",
            "Downloading http://yann.lecun.com/exdb/mnist/t10k-images-idx3-ubyte.gz\n",
            "Failed to download (trying next):\n",
            "HTTP Error 403: Forbidden\n",
            "\n",
            "Downloading https://ossci-datasets.s3.amazonaws.com/mnist/t10k-images-idx3-ubyte.gz\n",
            "Downloading https://ossci-datasets.s3.amazonaws.com/mnist/t10k-images-idx3-ubyte.gz to MNIST/MNIST/raw/t10k-images-idx3-ubyte.gz\n"
          ]
        },
        {
          "output_type": "stream",
          "name": "stderr",
          "text": [
            "100%|██████████| 1648877/1648877 [00:00<00:00, 9064553.05it/s]\n"
          ]
        },
        {
          "output_type": "stream",
          "name": "stdout",
          "text": [
            "Extracting MNIST/MNIST/raw/t10k-images-idx3-ubyte.gz to MNIST/MNIST/raw\n",
            "\n",
            "Downloading http://yann.lecun.com/exdb/mnist/t10k-labels-idx1-ubyte.gz\n",
            "Failed to download (trying next):\n",
            "HTTP Error 403: Forbidden\n",
            "\n",
            "Downloading https://ossci-datasets.s3.amazonaws.com/mnist/t10k-labels-idx1-ubyte.gz\n",
            "Downloading https://ossci-datasets.s3.amazonaws.com/mnist/t10k-labels-idx1-ubyte.gz to MNIST/MNIST/raw/t10k-labels-idx1-ubyte.gz\n"
          ]
        },
        {
          "output_type": "stream",
          "name": "stderr",
          "text": [
            "100%|██████████| 4542/4542 [00:00<00:00, 7108406.26it/s]"
          ]
        },
        {
          "output_type": "stream",
          "name": "stdout",
          "text": [
            "Extracting MNIST/MNIST/raw/t10k-labels-idx1-ubyte.gz to MNIST/MNIST/raw\n",
            "\n"
          ]
        },
        {
          "output_type": "stream",
          "name": "stderr",
          "text": [
            "\n"
          ]
        },
        {
          "output_type": "stream",
          "name": "stdout",
          "text": [
            "Número de minibatches de trenamento: 60\n",
            "\n",
            "Dimensões dos dados de um minibatch: torch.Size([1000, 1, 28, 28])\n",
            "Valores mínimo e máximo dos pixels:  tensor(0.) tensor(1.)\n",
            "Tipo dos dados das imagens:          <class 'torch.Tensor'>\n",
            "Tipo das classes das imagens:        <class 'torch.Tensor'>\n"
          ]
        }
      ],
      "source": [
        "dataset_dir = 'MNIST/'\n",
        "\n",
        "dataset_train = MNIST(dataset_dir, train=True, download=True,\n",
        "                      transform=torchvision.transforms.ToTensor())\n",
        "\n",
        "loader_train = DataLoader(dataset_train, batch_size=batch_size, shuffle=False)\n",
        "\n",
        "print('Número de minibatches de trenamento:', len(loader_train))\n",
        "\n",
        "x_train, y_train = next(iter(loader_train))\n",
        "print(\"\\nDimensões dos dados de um minibatch:\", x_train.size())\n",
        "print(\"Valores mínimo e máximo dos pixels: \", torch.min(x_train), torch.max(x_train))\n",
        "print(\"Tipo dos dados das imagens:         \", type(x_train))\n",
        "print(\"Tipo das classes das imagens:       \", type(y_train))"
      ]
    },
    {
      "cell_type": "markdown",
      "metadata": {
        "id": "Jalws0jHl-fB"
      },
      "source": [
        "### Usando todas as amostras do MNIST\n",
        "\n",
        "Neste exemplo utilizaremos todas as amostras de treinamento."
      ]
    },
    {
      "cell_type": "code",
      "execution_count": 4,
      "metadata": {
        "ExecuteTime": {
          "end_time": "2017-11-24T22:39:50.414117Z",
          "start_time": "2017-11-24T22:39:50.402687Z"
        },
        "colab": {
          "base_uri": "https://localhost:8080/"
        },
        "id": "TnFMMGDKl-fC",
        "outputId": "a8416688-33be-4054-f9f4-6e9b4483aada"
      },
      "outputs": [
        {
          "output_type": "stream",
          "name": "stdout",
          "text": [
            "Número de minibatches de treinamento: 60\n"
          ]
        },
        {
          "output_type": "stream",
          "name": "stderr",
          "text": [
            "/usr/local/lib/python3.10/dist-packages/torchvision/datasets/mnist.py:76: UserWarning: train_data has been renamed data\n",
            "  warnings.warn(\"train_data has been renamed data\")\n"
          ]
        }
      ],
      "source": [
        "print('Número de minibatches de treinamento:', len(loader_train))\n",
        "n_batches_train = len(loader_train)\n",
        "total_samples = dataset_train.train_data.size(0)"
      ]
    },
    {
      "cell_type": "markdown",
      "metadata": {
        "id": "dz6ke_hfl-fF"
      },
      "source": [
        "## Modelo"
      ]
    },
    {
      "cell_type": "code",
      "execution_count": 5,
      "metadata": {
        "ExecuteTime": {
          "end_time": "2017-11-24T22:39:50.422994Z",
          "start_time": "2017-11-24T22:39:50.416568Z"
        },
        "id": "8iCWX43fl-fG"
      },
      "outputs": [],
      "source": [
        "model = torch.nn.Linear(28*28, 10)"
      ]
    },
    {
      "cell_type": "code",
      "execution_count": 6,
      "metadata": {
        "colab": {
          "base_uri": "https://localhost:8080/"
        },
        "id": "GrIFjo18dZ_L",
        "outputId": "285e9945-29ce-4a1c-da35-997e4e471e41"
      },
      "outputs": [
        {
          "output_type": "stream",
          "name": "stdout",
          "text": [
            "torch.Size([1, 784])\n"
          ]
        },
        {
          "output_type": "execute_result",
          "data": {
            "text/plain": [
              "tensor([[-1.0380,  0.5397, -0.7719, -0.4364, -0.1829, -0.7193, -0.8983, -1.2261,\n",
              "          0.4032,  0.3223]], grad_fn=<AddmmBackward0>)"
            ]
          },
          "metadata": {},
          "execution_count": 6
        }
      ],
      "source": [
        "x = torch.ones(28*28).reshape(1, 784)\n",
        "print(x.shape)\n",
        "predict = model(x)\n",
        "predict"
      ]
    },
    {
      "cell_type": "markdown",
      "metadata": {
        "id": "kVDFEZBql-fJ"
      },
      "source": [
        "## Treinamento"
      ]
    },
    {
      "cell_type": "markdown",
      "metadata": {
        "id": "OUAeuSK6l-fJ"
      },
      "source": [
        "### Inicialização dos parâmetros"
      ]
    },
    {
      "cell_type": "code",
      "execution_count": 7,
      "metadata": {
        "ExecuteTime": {
          "end_time": "2017-11-24T22:39:50.433321Z",
          "start_time": "2017-11-24T22:39:50.426167Z"
        },
        "id": "XT5_fSiQl-fK"
      },
      "outputs": [],
      "source": [
        "n_epochs = 5\n",
        "learningRate = 0.5\n",
        "\n",
        "# Utilizaremos CrossEntropyLoss como função de perda\n",
        "criterion = torch.nn.CrossEntropyLoss()\n",
        "\n",
        "# Gradiente descendente\n",
        "optimizer = torch.optim.SGD(model.parameters(), lr=learningRate)"
      ]
    },
    {
      "cell_type": "markdown",
      "metadata": {
        "id": "-OM9OWI6l-fN"
      },
      "source": [
        "### Laço de treinamento dos parâmetros"
      ]
    },
    {
      "cell_type": "code",
      "execution_count": 8,
      "metadata": {
        "ExecuteTime": {
          "end_time": "2017-11-24T22:39:50.984972Z",
          "start_time": "2017-11-24T22:39:50.435673Z"
        },
        "id": "JvNVUUFTl-fQ",
        "colab": {
          "base_uri": "https://localhost:8080/"
        },
        "outputId": "50a38be2-bb33-4bee-dfdb-2908556586ed"
      },
      "outputs": [
        {
          "output_type": "stream",
          "name": "stdout",
          "text": [
            "Época: 0/4, batch: 0/60\n",
            "Época: 0/4, batch: 1/60\n",
            "Época: 0/4, batch: 2/60\n",
            "Época: 0/4, batch: 3/60\n",
            "Época: 0/4, batch: 4/60\n",
            "Época: 0/4, batch: 5/60\n",
            "Época: 0/4, batch: 6/60\n",
            "Época: 0/4, batch: 7/60\n",
            "Época: 0/4, batch: 8/60\n",
            "Época: 0/4, batch: 9/60\n",
            "Época: 0/4, batch: 10/60\n",
            "Época: 0/4, batch: 11/60\n",
            "Época: 0/4, batch: 12/60\n",
            "Época: 0/4, batch: 13/60\n",
            "Época: 0/4, batch: 14/60\n",
            "Época: 0/4, batch: 15/60\n",
            "Época: 0/4, batch: 16/60\n",
            "Época: 0/4, batch: 17/60\n",
            "Época: 0/4, batch: 18/60\n",
            "Época: 0/4, batch: 19/60\n",
            "Época: 0/4, batch: 20/60\n",
            "Época: 0/4, batch: 21/60\n",
            "Época: 0/4, batch: 22/60\n",
            "Época: 0/4, batch: 23/60\n",
            "Época: 0/4, batch: 24/60\n",
            "Época: 0/4, batch: 25/60\n",
            "Época: 0/4, batch: 26/60\n",
            "Época: 0/4, batch: 27/60\n",
            "Época: 0/4, batch: 28/60\n",
            "Época: 0/4, batch: 29/60\n",
            "Época: 0/4, batch: 30/60\n",
            "Época: 0/4, batch: 31/60\n",
            "Época: 0/4, batch: 32/60\n",
            "Época: 0/4, batch: 33/60\n",
            "Época: 0/4, batch: 34/60\n",
            "Época: 0/4, batch: 35/60\n",
            "Época: 0/4, batch: 36/60\n",
            "Época: 0/4, batch: 37/60\n",
            "Época: 0/4, batch: 38/60\n",
            "Época: 0/4, batch: 39/60\n",
            "Época: 0/4, batch: 40/60\n",
            "Época: 0/4, batch: 41/60\n",
            "Época: 0/4, batch: 42/60\n",
            "Época: 0/4, batch: 43/60\n",
            "Época: 0/4, batch: 44/60\n",
            "Época: 0/4, batch: 45/60\n",
            "Época: 0/4, batch: 46/60\n",
            "Época: 0/4, batch: 47/60\n",
            "Época: 0/4, batch: 48/60\n",
            "Época: 0/4, batch: 49/60\n",
            "Época: 0/4, batch: 50/60\n",
            "Época: 0/4, batch: 51/60\n",
            "Época: 0/4, batch: 52/60\n",
            "Época: 0/4, batch: 53/60\n",
            "Época: 0/4, batch: 54/60\n",
            "Época: 0/4, batch: 55/60\n",
            "Época: 0/4, batch: 56/60\n",
            "Época: 0/4, batch: 57/60\n",
            "Época: 0/4, batch: 58/60\n",
            "Época: 0/4, batch: 59/60\n",
            "Época: 1/4, batch: 0/60\n",
            "Época: 1/4, batch: 1/60\n",
            "Época: 1/4, batch: 2/60\n",
            "Época: 1/4, batch: 3/60\n",
            "Época: 1/4, batch: 4/60\n",
            "Época: 1/4, batch: 5/60\n",
            "Época: 1/4, batch: 6/60\n",
            "Época: 1/4, batch: 7/60\n",
            "Época: 1/4, batch: 8/60\n",
            "Época: 1/4, batch: 9/60\n",
            "Época: 1/4, batch: 10/60\n",
            "Época: 1/4, batch: 11/60\n",
            "Época: 1/4, batch: 12/60\n",
            "Época: 1/4, batch: 13/60\n",
            "Época: 1/4, batch: 14/60\n",
            "Época: 1/4, batch: 15/60\n",
            "Época: 1/4, batch: 16/60\n",
            "Época: 1/4, batch: 17/60\n",
            "Época: 1/4, batch: 18/60\n",
            "Época: 1/4, batch: 19/60\n",
            "Época: 1/4, batch: 20/60\n",
            "Época: 1/4, batch: 21/60\n",
            "Época: 1/4, batch: 22/60\n",
            "Época: 1/4, batch: 23/60\n",
            "Época: 1/4, batch: 24/60\n",
            "Época: 1/4, batch: 25/60\n",
            "Época: 1/4, batch: 26/60\n",
            "Época: 1/4, batch: 27/60\n",
            "Época: 1/4, batch: 28/60\n",
            "Época: 1/4, batch: 29/60\n",
            "Época: 1/4, batch: 30/60\n",
            "Época: 1/4, batch: 31/60\n",
            "Época: 1/4, batch: 32/60\n",
            "Época: 1/4, batch: 33/60\n",
            "Época: 1/4, batch: 34/60\n",
            "Época: 1/4, batch: 35/60\n",
            "Época: 1/4, batch: 36/60\n",
            "Época: 1/4, batch: 37/60\n",
            "Época: 1/4, batch: 38/60\n",
            "Época: 1/4, batch: 39/60\n",
            "Época: 1/4, batch: 40/60\n",
            "Época: 1/4, batch: 41/60\n",
            "Época: 1/4, batch: 42/60\n",
            "Época: 1/4, batch: 43/60\n",
            "Época: 1/4, batch: 44/60\n",
            "Época: 1/4, batch: 45/60\n",
            "Época: 1/4, batch: 46/60\n",
            "Época: 1/4, batch: 47/60\n",
            "Época: 1/4, batch: 48/60\n",
            "Época: 1/4, batch: 49/60\n",
            "Época: 1/4, batch: 50/60\n",
            "Época: 1/4, batch: 51/60\n",
            "Época: 1/4, batch: 52/60\n",
            "Época: 1/4, batch: 53/60\n",
            "Época: 1/4, batch: 54/60\n",
            "Época: 1/4, batch: 55/60\n",
            "Época: 1/4, batch: 56/60\n",
            "Época: 1/4, batch: 57/60\n",
            "Época: 1/4, batch: 58/60\n",
            "Época: 1/4, batch: 59/60\n",
            "Época: 2/4, batch: 0/60\n",
            "Época: 2/4, batch: 1/60\n",
            "Época: 2/4, batch: 2/60\n",
            "Época: 2/4, batch: 3/60\n",
            "Época: 2/4, batch: 4/60\n",
            "Época: 2/4, batch: 5/60\n",
            "Época: 2/4, batch: 6/60\n",
            "Época: 2/4, batch: 7/60\n",
            "Época: 2/4, batch: 8/60\n",
            "Época: 2/4, batch: 9/60\n",
            "Época: 2/4, batch: 10/60\n",
            "Época: 2/4, batch: 11/60\n",
            "Época: 2/4, batch: 12/60\n",
            "Época: 2/4, batch: 13/60\n",
            "Época: 2/4, batch: 14/60\n",
            "Época: 2/4, batch: 15/60\n",
            "Época: 2/4, batch: 16/60\n",
            "Época: 2/4, batch: 17/60\n",
            "Época: 2/4, batch: 18/60\n",
            "Época: 2/4, batch: 19/60\n",
            "Época: 2/4, batch: 20/60\n",
            "Época: 2/4, batch: 21/60\n",
            "Época: 2/4, batch: 22/60\n",
            "Época: 2/4, batch: 23/60\n",
            "Época: 2/4, batch: 24/60\n",
            "Época: 2/4, batch: 25/60\n",
            "Época: 2/4, batch: 26/60\n",
            "Época: 2/4, batch: 27/60\n",
            "Época: 2/4, batch: 28/60\n",
            "Época: 2/4, batch: 29/60\n",
            "Época: 2/4, batch: 30/60\n",
            "Época: 2/4, batch: 31/60\n",
            "Época: 2/4, batch: 32/60\n",
            "Época: 2/4, batch: 33/60\n",
            "Época: 2/4, batch: 34/60\n",
            "Época: 2/4, batch: 35/60\n",
            "Época: 2/4, batch: 36/60\n",
            "Época: 2/4, batch: 37/60\n",
            "Época: 2/4, batch: 38/60\n",
            "Época: 2/4, batch: 39/60\n",
            "Época: 2/4, batch: 40/60\n",
            "Época: 2/4, batch: 41/60\n",
            "Época: 2/4, batch: 42/60\n",
            "Época: 2/4, batch: 43/60\n",
            "Época: 2/4, batch: 44/60\n",
            "Época: 2/4, batch: 45/60\n",
            "Época: 2/4, batch: 46/60\n",
            "Época: 2/4, batch: 47/60\n",
            "Época: 2/4, batch: 48/60\n",
            "Época: 2/4, batch: 49/60\n",
            "Época: 2/4, batch: 50/60\n",
            "Época: 2/4, batch: 51/60\n",
            "Época: 2/4, batch: 52/60\n",
            "Época: 2/4, batch: 53/60\n",
            "Época: 2/4, batch: 54/60\n",
            "Época: 2/4, batch: 55/60\n",
            "Época: 2/4, batch: 56/60\n",
            "Época: 2/4, batch: 57/60\n",
            "Época: 2/4, batch: 58/60\n",
            "Época: 2/4, batch: 59/60\n",
            "Época: 3/4, batch: 0/60\n",
            "Época: 3/4, batch: 1/60\n",
            "Época: 3/4, batch: 2/60\n",
            "Época: 3/4, batch: 3/60\n",
            "Época: 3/4, batch: 4/60\n",
            "Época: 3/4, batch: 5/60\n",
            "Época: 3/4, batch: 6/60\n",
            "Época: 3/4, batch: 7/60\n",
            "Época: 3/4, batch: 8/60\n",
            "Época: 3/4, batch: 9/60\n",
            "Época: 3/4, batch: 10/60\n",
            "Época: 3/4, batch: 11/60\n",
            "Época: 3/4, batch: 12/60\n",
            "Época: 3/4, batch: 13/60\n",
            "Época: 3/4, batch: 14/60\n",
            "Época: 3/4, batch: 15/60\n",
            "Época: 3/4, batch: 16/60\n",
            "Época: 3/4, batch: 17/60\n",
            "Época: 3/4, batch: 18/60\n",
            "Época: 3/4, batch: 19/60\n",
            "Época: 3/4, batch: 20/60\n",
            "Época: 3/4, batch: 21/60\n",
            "Época: 3/4, batch: 22/60\n",
            "Época: 3/4, batch: 23/60\n",
            "Época: 3/4, batch: 24/60\n",
            "Época: 3/4, batch: 25/60\n",
            "Época: 3/4, batch: 26/60\n",
            "Época: 3/4, batch: 27/60\n",
            "Época: 3/4, batch: 28/60\n",
            "Época: 3/4, batch: 29/60\n",
            "Época: 3/4, batch: 30/60\n",
            "Época: 3/4, batch: 31/60\n",
            "Época: 3/4, batch: 32/60\n",
            "Época: 3/4, batch: 33/60\n",
            "Época: 3/4, batch: 34/60\n",
            "Época: 3/4, batch: 35/60\n",
            "Época: 3/4, batch: 36/60\n",
            "Época: 3/4, batch: 37/60\n",
            "Época: 3/4, batch: 38/60\n",
            "Época: 3/4, batch: 39/60\n",
            "Época: 3/4, batch: 40/60\n",
            "Época: 3/4, batch: 41/60\n",
            "Época: 3/4, batch: 42/60\n",
            "Época: 3/4, batch: 43/60\n",
            "Época: 3/4, batch: 44/60\n",
            "Época: 3/4, batch: 45/60\n",
            "Época: 3/4, batch: 46/60\n",
            "Época: 3/4, batch: 47/60\n",
            "Época: 3/4, batch: 48/60\n",
            "Época: 3/4, batch: 49/60\n",
            "Época: 3/4, batch: 50/60\n",
            "Época: 3/4, batch: 51/60\n",
            "Época: 3/4, batch: 52/60\n",
            "Época: 3/4, batch: 53/60\n",
            "Época: 3/4, batch: 54/60\n",
            "Época: 3/4, batch: 55/60\n",
            "Época: 3/4, batch: 56/60\n",
            "Época: 3/4, batch: 57/60\n",
            "Época: 3/4, batch: 58/60\n",
            "Época: 3/4, batch: 59/60\n",
            "Época: 4/4, batch: 0/60\n",
            "Época: 4/4, batch: 1/60\n",
            "Época: 4/4, batch: 2/60\n",
            "Época: 4/4, batch: 3/60\n",
            "Época: 4/4, batch: 4/60\n",
            "Época: 4/4, batch: 5/60\n",
            "Época: 4/4, batch: 6/60\n",
            "Época: 4/4, batch: 7/60\n",
            "Época: 4/4, batch: 8/60\n",
            "Época: 4/4, batch: 9/60\n",
            "Época: 4/4, batch: 10/60\n",
            "Época: 4/4, batch: 11/60\n",
            "Época: 4/4, batch: 12/60\n",
            "Época: 4/4, batch: 13/60\n",
            "Época: 4/4, batch: 14/60\n",
            "Época: 4/4, batch: 15/60\n",
            "Época: 4/4, batch: 16/60\n",
            "Época: 4/4, batch: 17/60\n",
            "Época: 4/4, batch: 18/60\n",
            "Época: 4/4, batch: 19/60\n",
            "Época: 4/4, batch: 20/60\n",
            "Época: 4/4, batch: 21/60\n",
            "Época: 4/4, batch: 22/60\n",
            "Época: 4/4, batch: 23/60\n",
            "Época: 4/4, batch: 24/60\n",
            "Época: 4/4, batch: 25/60\n",
            "Época: 4/4, batch: 26/60\n",
            "Época: 4/4, batch: 27/60\n",
            "Época: 4/4, batch: 28/60\n",
            "Época: 4/4, batch: 29/60\n",
            "Época: 4/4, batch: 30/60\n",
            "Época: 4/4, batch: 31/60\n",
            "Época: 4/4, batch: 32/60\n",
            "Época: 4/4, batch: 33/60\n",
            "Época: 4/4, batch: 34/60\n",
            "Época: 4/4, batch: 35/60\n",
            "Época: 4/4, batch: 36/60\n",
            "Época: 4/4, batch: 37/60\n",
            "Época: 4/4, batch: 38/60\n",
            "Época: 4/4, batch: 39/60\n",
            "Época: 4/4, batch: 40/60\n",
            "Época: 4/4, batch: 41/60\n",
            "Época: 4/4, batch: 42/60\n",
            "Época: 4/4, batch: 43/60\n",
            "Época: 4/4, batch: 44/60\n",
            "Época: 4/4, batch: 45/60\n",
            "Época: 4/4, batch: 46/60\n",
            "Época: 4/4, batch: 47/60\n",
            "Época: 4/4, batch: 48/60\n",
            "Época: 4/4, batch: 49/60\n",
            "Época: 4/4, batch: 50/60\n",
            "Época: 4/4, batch: 51/60\n",
            "Época: 4/4, batch: 52/60\n",
            "Época: 4/4, batch: 53/60\n",
            "Época: 4/4, batch: 54/60\n",
            "Época: 4/4, batch: 55/60\n",
            "Época: 4/4, batch: 56/60\n",
            "Época: 4/4, batch: 57/60\n",
            "Época: 4/4, batch: 58/60\n",
            "Época: 4/4, batch: 59/60\n"
          ]
        }
      ],
      "source": [
        "epochs = []\n",
        "losses = []\n",
        "\n",
        "total_trained_samples = 0\n",
        "for i in range(n_epochs):\n",
        "    for k,(x_train, y_train) in enumerate(loader_train):\n",
        "        # Transforma a entrada para uma dimensão\n",
        "        inputs = Variable(x_train.view(-1, 28 * 28))\n",
        "        # predict da rede\n",
        "        outputs = model(inputs)\n",
        "\n",
        "        # calcula a perda\n",
        "        loss = criterion(outputs, Variable(y_train))\n",
        "\n",
        "        # zero, backpropagation, ajusta parâmetros pelo gradiente descendente\n",
        "        optimizer.zero_grad()\n",
        "        loss.backward()\n",
        "        optimizer.step()\n",
        "\n",
        "        total_trained_samples += x_train.size(0)\n",
        "        epochs.append(total_trained_samples / total_samples)\n",
        "        losses.append(loss.data)\n",
        "        print(f'Época: {i}/{n_epochs - 1}, batch: {k}/{len(loader_train)}')"
      ]
    },
    {
      "cell_type": "markdown",
      "source": [
        "Época: 1/4, batch: 600"
      ],
      "metadata": {
        "id": "sHM6-XWAb0M4"
      }
    },
    {
      "cell_type": "code",
      "execution_count": 9,
      "metadata": {
        "ExecuteTime": {
          "end_time": "2017-11-24T22:39:50.992302Z",
          "start_time": "2017-11-24T22:39:50.987284Z"
        },
        "colab": {
          "base_uri": "https://localhost:8080/"
        },
        "id": "aYO4bgVwl-fT",
        "outputId": "020caaf3-acde-4c0b-f750-edf8e9ed1881"
      },
      "outputs": [
        {
          "output_type": "stream",
          "name": "stdout",
          "text": [
            "Final loss: tensor(0.2568)\n"
          ]
        }
      ],
      "source": [
        "print('Final loss:', loss.data)"
      ]
    },
    {
      "cell_type": "markdown",
      "metadata": {
        "id": "XEhPdkjAl-fX"
      },
      "source": [
        "### Visualizando gráfico de perda durante o treinamento"
      ]
    },
    {
      "cell_type": "code",
      "execution_count": 10,
      "metadata": {
        "ExecuteTime": {
          "end_time": "2017-11-24T22:39:51.244869Z",
          "start_time": "2017-11-24T22:39:50.995188Z"
        },
        "colab": {
          "base_uri": "https://localhost:8080/",
          "height": 468
        },
        "id": "_fSYP_KXl-fY",
        "outputId": "807ea986-cb75-4c42-a65d-dab8c18e84ab"
      },
      "outputs": [
        {
          "output_type": "execute_result",
          "data": {
            "text/plain": [
              "Text(0.5, 0, 'época')"
            ]
          },
          "metadata": {},
          "execution_count": 10
        },
        {
          "output_type": "display_data",
          "data": {
            "text/plain": [
              "<Figure size 640x480 with 1 Axes>"
            ],
            "image/png": "[encoded data removed]"
          },
          "metadata": {}
        }
      ],
      "source": [
        "plt.plot(epochs, losses)\n",
        "plt.xlabel('época')"
      ]
    },
    {
      "cell_type": "markdown",
      "metadata": {
        "id": "eNyGHxAtl-fc"
      },
      "source": [
        "### Visualização usual da perda, somente no final de cada minibatch"
      ]
    },
    {
      "cell_type": "code",
      "execution_count": 11,
      "metadata": {
        "ExecuteTime": {
          "end_time": "2017-11-24T22:39:51.498640Z",
          "start_time": "2017-11-24T22:39:51.246714Z"
        },
        "colab": {
          "base_uri": "https://localhost:8080/",
          "height": 468
        },
        "id": "e2J2aZZVl-fd",
        "outputId": "69d2aee8-9494-4d28-c820-e559f11f082c"
      },
      "outputs": [
        {
          "output_type": "execute_result",
          "data": {
            "text/plain": [
              "Text(0.5, 0, 'época')"
            ]
          },
          "metadata": {},
          "execution_count": 11
        },
        {
          "output_type": "display_data",
          "data": {
            "text/plain": [
              "<Figure size 640x480 with 1 Axes>"
            ],
            "image/png": "[encoded data removed]"
          },
          "metadata": {}
        }
      ],
      "source": [
        "plt.plot(epochs[:5 * n_batches_train +1:n_batches_train], losses[:5 * n_batches_train+1:n_batches_train])\n",
        "plt.xlabel('época')"
      ]
    },
    {
      "cell_type": "markdown",
      "metadata": {
        "id": "eHLCXNLml-fg"
      },
      "source": [
        "# Atividades"
      ]
    },
    {
      "cell_type": "markdown",
      "metadata": {
        "id": "ZCs38MOml-fh"
      },
      "source": [
        "## Perguntas"
      ]
    },
    {
      "cell_type": "markdown",
      "metadata": {
        "id": "Ffg58gb7l-fi"
      },
      "source": [
        "1. Qual é o tamanho do mini-batch?\n",
        "2. Em uma época, quantos mini-batches existem?\n",
        "3. Qual é a definição de época?"
      ]
    },
    {
      "cell_type": "markdown",
      "source": [
        "1.\n",
        "1000\n",
        "\n",
        "2.\n",
        "O número de mini-batches por época é calculado pela divisão do total de amostras pelo tamanho do mini-batch."
      ],
      "metadata": {
        "id": "PegITdX0PX8b"
      }
    },
    {
      "cell_type": "code",
      "source": [
        "#Número de minibatches de treinamento: 60 (pois o dataset MNIST de treinamento contém 60,000 amostras).\n",
        "len(loader_train)"
      ],
      "metadata": {
        "colab": {
          "base_uri": "https://localhost:8080/"
        },
        "id": "CLAhBjg3Pk6V",
        "outputId": "bcce1351-09b1-4c0a-ed24-4b1368d159c6"
      },
      "execution_count": 13,
      "outputs": [
        {
          "output_type": "execute_result",
          "data": {
            "text/plain": [
              "60"
            ]
          },
          "metadata": {},
          "execution_count": 13
        }
      ]
    },
    {
      "cell_type": "markdown",
      "source": [
        "3.\n",
        "Uma época é definida como um ciclo completo pelo qual o algoritmo de treinamento passa por todo o conjunto de dados uma vez. Cada amostra no conjunto de dados é utilizada uma vez para atualizar os pesos da rede neural."
      ],
      "metadata": {
        "id": "13DK6owCPtL1"
      }
    },
    {
      "cell_type": "markdown",
      "metadata": {
        "id": "DourBpfrl-fl"
      },
      "source": [
        "## Exercícios\n"
      ]
    },
    {
      "cell_type": "markdown",
      "metadata": {
        "id": "Vjh3AaNpl-fn"
      },
      "source": [
        "1. Coloque um print no final de cada minibatch, no mesmo estilo do print do final de época, no seguinte estilo:\n",
        "    - Época: 1/4, batch: 600"
      ]
    },
    {
      "cell_type": "code",
      "source": [
        "epochs = []\n",
        "losses = []\n",
        "\n",
        "total_trained_samples = 0\n",
        "for i in range(n_epochs):\n",
        "    for k, (x_train, y_train) in enumerate(loader_train):\n",
        "        inputs = Variable(x_train.view(-1, 28 * 28))\n",
        "        outputs = model(inputs)\n",
        "        loss = criterion(outputs, Variable(y_train))\n",
        "        optimizer.zero_grad()\n",
        "        loss.backward()\n",
        "        optimizer.step()\n",
        "\n",
        "        total_trained_samples += x_train.size(0)\n",
        "        epochs.append(total_trained_samples / total_samples)\n",
        "        losses.append(loss.data)\n",
        "        print(f'Época: {i}/{n_epochs - 1}, batch: {k}/{len(loader_train) - 1}')\n",
        "\n",
        "print('Final loss:', loss.data)"
      ],
      "metadata": {
        "colab": {
          "base_uri": "https://localhost:8080/"
        },
        "id": "HGZ1XjeCP85z",
        "outputId": "b44cf8cb-29f2-45d4-f145-95b1145e965f"
      },
      "execution_count": 14,
      "outputs": [
        {
          "output_type": "stream",
          "name": "stdout",
          "text": [
            "Época: 0/4, batch: 0/59\n",
            "Época: 0/4, batch: 1/59\n",
            "Época: 0/4, batch: 2/59\n",
            "Época: 0/4, batch: 3/59\n",
            "Época: 0/4, batch: 4/59\n",
            "Época: 0/4, batch: 5/59\n",
            "Época: 0/4, batch: 6/59\n",
            "Época: 0/4, batch: 7/59\n",
            "Época: 0/4, batch: 8/59\n",
            "Época: 0/4, batch: 9/59\n",
            "Época: 0/4, batch: 10/59\n",
            "Época: 0/4, batch: 11/59\n",
            "Época: 0/4, batch: 12/59\n",
            "Época: 0/4, batch: 13/59\n",
            "Época: 0/4, batch: 14/59\n",
            "Época: 0/4, batch: 15/59\n",
            "Época: 0/4, batch: 16/59\n",
            "Época: 0/4, batch: 17/59\n",
            "Época: 0/4, batch: 18/59\n",
            "Época: 0/4, batch: 19/59\n",
            "Época: 0/4, batch: 20/59\n",
            "Época: 0/4, batch: 21/59\n",
            "Época: 0/4, batch: 22/59\n",
            "Época: 0/4, batch: 23/59\n",
            "Época: 0/4, batch: 24/59\n",
            "Época: 0/4, batch: 25/59\n",
            "Época: 0/4, batch: 26/59\n",
            "Época: 0/4, batch: 27/59\n",
            "Época: 0/4, batch: 28/59\n",
            "Época: 0/4, batch: 29/59\n",
            "Época: 0/4, batch: 30/59\n",
            "Época: 0/4, batch: 31/59\n",
            "Época: 0/4, batch: 32/59\n",
            "Época: 0/4, batch: 33/59\n",
            "Época: 0/4, batch: 34/59\n",
            "Época: 0/4, batch: 35/59\n",
            "Época: 0/4, batch: 36/59\n",
            "Época: 0/4, batch: 37/59\n",
            "Época: 0/4, batch: 38/59\n",
            "Época: 0/4, batch: 39/59\n",
            "Época: 0/4, batch: 40/59\n",
            "Época: 0/4, batch: 41/59\n",
            "Época: 0/4, batch: 42/59\n",
            "Época: 0/4, batch: 43/59\n",
            "Época: 0/4, batch: 44/59\n",
            "Época: 0/4, batch: 45/59\n",
            "Época: 0/4, batch: 46/59\n",
            "Época: 0/4, batch: 47/59\n",
            "Época: 0/4, batch: 48/59\n",
            "Época: 0/4, batch: 49/59\n",
            "Época: 0/4, batch: 50/59\n",
            "Época: 0/4, batch: 51/59\n",
            "Época: 0/4, batch: 52/59\n",
            "Época: 0/4, batch: 53/59\n",
            "Época: 0/4, batch: 54/59\n",
            "Época: 0/4, batch: 55/59\n",
            "Época: 0/4, batch: 56/59\n",
            "Época: 0/4, batch: 57/59\n",
            "Época: 0/4, batch: 58/59\n",
            "Época: 0/4, batch: 59/59\n",
            "Época: 1/4, batch: 0/59\n",
            "Época: 1/4, batch: 1/59\n",
            "Época: 1/4, batch: 2/59\n",
            "Época: 1/4, batch: 3/59\n",
            "Época: 1/4, batch: 4/59\n",
            "Época: 1/4, batch: 5/59\n",
            "Época: 1/4, batch: 6/59\n",
            "Época: 1/4, batch: 7/59\n",
            "Época: 1/4, batch: 8/59\n",
            "Época: 1/4, batch: 9/59\n",
            "Época: 1/4, batch: 10/59\n",
            "Época: 1/4, batch: 11/59\n",
            "Época: 1/4, batch: 12/59\n",
            "Época: 1/4, batch: 13/59\n",
            "Época: 1/4, batch: 14/59\n",
            "Época: 1/4, batch: 15/59\n",
            "Época: 1/4, batch: 16/59\n",
            "Época: 1/4, batch: 17/59\n",
            "Época: 1/4, batch: 18/59\n",
            "Época: 1/4, batch: 19/59\n",
            "Época: 1/4, batch: 20/59\n",
            "Época: 1/4, batch: 21/59\n",
            "Época: 1/4, batch: 22/59\n",
            "Época: 1/4, batch: 23/59\n",
            "Época: 1/4, batch: 24/59\n",
            "Época: 1/4, batch: 25/59\n",
            "Época: 1/4, batch: 26/59\n",
            "Época: 1/4, batch: 27/59\n",
            "Época: 1/4, batch: 28/59\n",
            "Época: 1/4, batch: 29/59\n",
            "Época: 1/4, batch: 30/59\n",
            "Época: 1/4, batch: 31/59\n",
            "Época: 1/4, batch: 32/59\n",
            "Época: 1/4, batch: 33/59\n",
            "Época: 1/4, batch: 34/59\n",
            "Época: 1/4, batch: 35/59\n",
            "Época: 1/4, batch: 36/59\n",
            "Época: 1/4, batch: 37/59\n",
            "Época: 1/4, batch: 38/59\n",
            "Época: 1/4, batch: 39/59\n",
            "Época: 1/4, batch: 40/59\n",
            "Época: 1/4, batch: 41/59\n",
            "Época: 1/4, batch: 42/59\n",
            "Época: 1/4, batch: 43/59\n",
            "Época: 1/4, batch: 44/59\n",
            "Época: 1/4, batch: 45/59\n",
            "Época: 1/4, batch: 46/59\n",
            "Época: 1/4, batch: 47/59\n",
            "Época: 1/4, batch: 48/59\n",
            "Época: 1/4, batch: 49/59\n",
            "Época: 1/4, batch: 50/59\n",
            "Época: 1/4, batch: 51/59\n",
            "Época: 1/4, batch: 52/59\n",
            "Época: 1/4, batch: 53/59\n",
            "Época: 1/4, batch: 54/59\n",
            "Época: 1/4, batch: 55/59\n",
            "Época: 1/4, batch: 56/59\n",
            "Época: 1/4, batch: 57/59\n",
            "Época: 1/4, batch: 58/59\n",
            "Época: 1/4, batch: 59/59\n",
            "Época: 2/4, batch: 0/59\n",
            "Época: 2/4, batch: 1/59\n",
            "Época: 2/4, batch: 2/59\n",
            "Época: 2/4, batch: 3/59\n",
            "Época: 2/4, batch: 4/59\n",
            "Época: 2/4, batch: 5/59\n",
            "Época: 2/4, batch: 6/59\n",
            "Época: 2/4, batch: 7/59\n",
            "Época: 2/4, batch: 8/59\n",
            "Época: 2/4, batch: 9/59\n",
            "Época: 2/4, batch: 10/59\n",
            "Época: 2/4, batch: 11/59\n",
            "Época: 2/4, batch: 12/59\n",
            "Época: 2/4, batch: 13/59\n",
            "Época: 2/4, batch: 14/59\n",
            "Época: 2/4, batch: 15/59\n",
            "Época: 2/4, batch: 16/59\n",
            "Época: 2/4, batch: 17/59\n",
            "Época: 2/4, batch: 18/59\n",
            "Época: 2/4, batch: 19/59\n",
            "Época: 2/4, batch: 20/59\n",
            "Época: 2/4, batch: 21/59\n",
            "Época: 2/4, batch: 22/59\n",
            "Época: 2/4, batch: 23/59\n",
            "Época: 2/4, batch: 24/59\n",
            "Época: 2/4, batch: 25/59\n",
            "Época: 2/4, batch: 26/59\n",
            "Época: 2/4, batch: 27/59\n",
            "Época: 2/4, batch: 28/59\n",
            "Época: 2/4, batch: 29/59\n",
            "Época: 2/4, batch: 30/59\n",
            "Época: 2/4, batch: 31/59\n",
            "Época: 2/4, batch: 32/59\n",
            "Época: 2/4, batch: 33/59\n",
            "Época: 2/4, batch: 34/59\n",
            "Época: 2/4, batch: 35/59\n",
            "Época: 2/4, batch: 36/59\n",
            "Época: 2/4, batch: 37/59\n",
            "Época: 2/4, batch: 38/59\n",
            "Época: 2/4, batch: 39/59\n",
            "Época: 2/4, batch: 40/59\n",
            "Época: 2/4, batch: 41/59\n",
            "Época: 2/4, batch: 42/59\n",
            "Época: 2/4, batch: 43/59\n",
            "Época: 2/4, batch: 44/59\n",
            "Época: 2/4, batch: 45/59\n",
            "Época: 2/4, batch: 46/59\n",
            "Época: 2/4, batch: 47/59\n",
            "Época: 2/4, batch: 48/59\n",
            "Época: 2/4, batch: 49/59\n",
            "Época: 2/4, batch: 50/59\n",
            "Época: 2/4, batch: 51/59\n",
            "Época: 2/4, batch: 52/59\n",
            "Época: 2/4, batch: 53/59\n",
            "Época: 2/4, batch: 54/59\n",
            "Época: 2/4, batch: 55/59\n",
            "Época: 2/4, batch: 56/59\n",
            "Época: 2/4, batch: 57/59\n",
            "Época: 2/4, batch: 58/59\n",
            "Época: 2/4, batch: 59/59\n",
            "Época: 3/4, batch: 0/59\n",
            "Época: 3/4, batch: 1/59\n",
            "Época: 3/4, batch: 2/59\n",
            "Época: 3/4, batch: 3/59\n",
            "Época: 3/4, batch: 4/59\n",
            "Época: 3/4, batch: 5/59\n",
            "Época: 3/4, batch: 6/59\n",
            "Época: 3/4, batch: 7/59\n",
            "Época: 3/4, batch: 8/59\n",
            "Época: 3/4, batch: 9/59\n",
            "Época: 3/4, batch: 10/59\n",
            "Época: 3/4, batch: 11/59\n",
            "Época: 3/4, batch: 12/59\n",
            "Época: 3/4, batch: 13/59\n",
            "Época: 3/4, batch: 14/59\n",
            "Época: 3/4, batch: 15/59\n",
            "Época: 3/4, batch: 16/59\n",
            "Época: 3/4, batch: 17/59\n",
            "Época: 3/4, batch: 18/59\n",
            "Época: 3/4, batch: 19/59\n",
            "Época: 3/4, batch: 20/59\n",
            "Época: 3/4, batch: 21/59\n",
            "Época: 3/4, batch: 22/59\n",
            "Época: 3/4, batch: 23/59\n",
            "Época: 3/4, batch: 24/59\n",
            "Época: 3/4, batch: 25/59\n",
            "Época: 3/4, batch: 26/59\n",
            "Época: 3/4, batch: 27/59\n",
            "Época: 3/4, batch: 28/59\n",
            "Época: 3/4, batch: 29/59\n",
            "Época: 3/4, batch: 30/59\n",
            "Época: 3/4, batch: 31/59\n",
            "Época: 3/4, batch: 32/59\n",
            "Época: 3/4, batch: 33/59\n",
            "Época: 3/4, batch: 34/59\n",
            "Época: 3/4, batch: 35/59\n",
            "Época: 3/4, batch: 36/59\n",
            "Época: 3/4, batch: 37/59\n",
            "Época: 3/4, batch: 38/59\n",
            "Época: 3/4, batch: 39/59\n",
            "Época: 3/4, batch: 40/59\n",
            "Época: 3/4, batch: 41/59\n",
            "Época: 3/4, batch: 42/59\n",
            "Época: 3/4, batch: 43/59\n",
            "Época: 3/4, batch: 44/59\n",
            "Época: 3/4, batch: 45/59\n",
            "Época: 3/4, batch: 46/59\n",
            "Época: 3/4, batch: 47/59\n",
            "Época: 3/4, batch: 48/59\n",
            "Época: 3/4, batch: 49/59\n",
            "Época: 3/4, batch: 50/59\n",
            "Época: 3/4, batch: 51/59\n",
            "Época: 3/4, batch: 52/59\n",
            "Época: 3/4, batch: 53/59\n",
            "Época: 3/4, batch: 54/59\n",
            "Época: 3/4, batch: 55/59\n",
            "Época: 3/4, batch: 56/59\n",
            "Época: 3/4, batch: 57/59\n",
            "Época: 3/4, batch: 58/59\n",
            "Época: 3/4, batch: 59/59\n",
            "Época: 4/4, batch: 0/59\n",
            "Época: 4/4, batch: 1/59\n",
            "Época: 4/4, batch: 2/59\n",
            "Época: 4/4, batch: 3/59\n",
            "Época: 4/4, batch: 4/59\n",
            "Época: 4/4, batch: 5/59\n",
            "Época: 4/4, batch: 6/59\n",
            "Época: 4/4, batch: 7/59\n",
            "Época: 4/4, batch: 8/59\n",
            "Época: 4/4, batch: 9/59\n",
            "Época: 4/4, batch: 10/59\n",
            "Época: 4/4, batch: 11/59\n",
            "Época: 4/4, batch: 12/59\n",
            "Época: 4/4, batch: 13/59\n",
            "Época: 4/4, batch: 14/59\n",
            "Época: 4/4, batch: 15/59\n",
            "Época: 4/4, batch: 16/59\n",
            "Época: 4/4, batch: 17/59\n",
            "Época: 4/4, batch: 18/59\n",
            "Época: 4/4, batch: 19/59\n",
            "Época: 4/4, batch: 20/59\n",
            "Época: 4/4, batch: 21/59\n",
            "Época: 4/4, batch: 22/59\n",
            "Época: 4/4, batch: 23/59\n",
            "Época: 4/4, batch: 24/59\n",
            "Época: 4/4, batch: 25/59\n",
            "Época: 4/4, batch: 26/59\n",
            "Época: 4/4, batch: 27/59\n",
            "Época: 4/4, batch: 28/59\n",
            "Época: 4/4, batch: 29/59\n",
            "Época: 4/4, batch: 30/59\n",
            "Época: 4/4, batch: 31/59\n",
            "Época: 4/4, batch: 32/59\n",
            "Época: 4/4, batch: 33/59\n",
            "Época: 4/4, batch: 34/59\n",
            "Época: 4/4, batch: 35/59\n",
            "Época: 4/4, batch: 36/59\n",
            "Época: 4/4, batch: 37/59\n",
            "Época: 4/4, batch: 38/59\n",
            "Época: 4/4, batch: 39/59\n",
            "Época: 4/4, batch: 40/59\n",
            "Época: 4/4, batch: 41/59\n",
            "Época: 4/4, batch: 42/59\n",
            "Época: 4/4, batch: 43/59\n",
            "Época: 4/4, batch: 44/59\n",
            "Época: 4/4, batch: 45/59\n",
            "Época: 4/4, batch: 46/59\n",
            "Época: 4/4, batch: 47/59\n",
            "Época: 4/4, batch: 48/59\n",
            "Época: 4/4, batch: 49/59\n",
            "Época: 4/4, batch: 50/59\n",
            "Época: 4/4, batch: 51/59\n",
            "Época: 4/4, batch: 52/59\n",
            "Época: 4/4, batch: 53/59\n",
            "Época: 4/4, batch: 54/59\n",
            "Época: 4/4, batch: 55/59\n",
            "Época: 4/4, batch: 56/59\n",
            "Época: 4/4, batch: 57/59\n",
            "Época: 4/4, batch: 58/59\n",
            "Época: 4/4, batch: 59/59\n",
            "Final loss: tensor(0.2402)\n"
          ]
        }
      ]
    },
    {
      "cell_type": "markdown",
      "source": [
        "2. Altere o tamanho de minibatch (batch_size) algumas vezes, refaça o treinamento, e compare no gráfico abaixo a queda da perda para cada tamanho de minibatch."
      ],
      "metadata": {
        "id": "Ds7YJyLWP7ha"
      }
    },
    {
      "cell_type": "markdown",
      "source": [
        "##Tive que reduzir para que o código retornasse, estava demorando demais"
      ],
      "metadata": {
        "id": "OKVumxnQS9Lw"
      }
    },
    {
      "cell_type": "code",
      "source": [
        "#Testando com 64, 256 e 512"
      ],
      "metadata": {
        "id": "qm0G0Z_HRnFX"
      },
      "execution_count": null,
      "outputs": []
    },
    {
      "cell_type": "code",
      "source": [
        "n_epochs = 5\n",
        "learning_rate = 0.5\n",
        "batch_sizes = [64, 256, 512]\n",
        "\n",
        "dataset_train = MNIST(root='./MNIST', train=True, download=True, transform=torchvision.transforms.ToTensor())\n",
        "\n",
        "dataset_train = torch.utils.data.Subset(dataset_train, range(100))\n",
        "\n",
        "model = torch.nn.Linear(28 * 28, 10)\n",
        "\n",
        "criterion = torch.nn.CrossEntropyLoss()\n",
        "optimizer = torch.optim.SGD(model.parameters(), lr=learning_rate)"
      ],
      "metadata": {
        "id": "sJiNB9UnQVRZ"
      },
      "execution_count": 21,
      "outputs": []
    },
    {
      "cell_type": "code",
      "source": [
        "def train_model(batch_size):\n",
        "    loader_train = DataLoader(dataset_train, batch_size=batch_size, shuffle=True)\n",
        "    epochs = []\n",
        "    losses = []\n",
        "    total_trained_samples = 0\n",
        "\n",
        "    for epoch in range(n_epochs):\n",
        "        for k, (x_train, y_train) in enumerate(loader_train):\n",
        "            inputs = Variable(x_train.view(-1, 28 * 28))\n",
        "            outputs = model(inputs)\n",
        "            loss = criterion(outputs, Variable(y_train))\n",
        "            optimizer.zero_grad()\n",
        "            loss.backward()\n",
        "            optimizer.step()\n",
        "            total_trained_samples += x_train.size(0)\n",
        "            epochs.append(total_trained_samples / len(dataset_train))\n",
        "            losses.append(loss.item())\n",
        "            print(f'Época: {epoch}/{n_epochs - 1}, batch: {k}/{len(loader_train) - 1}, Loss: {loss.item()}')\n",
        "\n",
        "    return epochs, losses\n",
        "\n",
        "# Treinamento e armazenamento dos resultados para diferentes tamanhos de minibatch\n",
        "results = {}\n",
        "for batch_size in batch_sizes:\n",
        "    print(f'Treinando com batch_size={batch_size}')\n",
        "    epochs, losses = train_model(batch_size)\n",
        "    results[batch_size] = (epochs, losses)\n",
        "\n",
        "# Plotagem dos resultados\n",
        "plt.figure(figsize=(12, 8))\n",
        "for batch_size, (epochs, losses) in results.items():\n",
        "    plt.plot(epochs, losses, label=f'Batch Size {batch_size}')\n",
        "\n",
        "plt.xlabel('Épocas (fracionadas)')\n",
        "plt.ylabel('Perda')\n",
        "plt.legend()\n",
        "plt.title('Comparação da Perda para Diferentes Tamanhos de Minibatch')\n",
        "plt.show()\n"
      ],
      "metadata": {
        "colab": {
          "base_uri": "https://localhost:8080/",
          "height": 1000
        },
        "id": "1OQszGFtRk9I",
        "outputId": "450cc53b-84bc-4936-dc53-8aff961ca205"
      },
      "execution_count": 24,
      "outputs": [
        {
          "output_type": "stream",
          "name": "stdout",
          "text": [
            "Treinando com batch_size=64\n",
            "Época: 0/4, batch: 0/1, Loss: 2.3412983417510986\n",
            "Época: 0/4, batch: 1/1, Loss: 1.9450764656066895\n",
            "Época: 1/4, batch: 0/1, Loss: 2.566179037094116\n",
            "Época: 1/4, batch: 1/1, Loss: 2.1179373264312744\n",
            "Época: 2/4, batch: 0/1, Loss: 1.4868834018707275\n",
            "Época: 2/4, batch: 1/1, Loss: 0.8533568382263184\n",
            "Época: 3/4, batch: 0/1, Loss: 0.5653039216995239\n",
            "Época: 3/4, batch: 1/1, Loss: 0.5370303392410278\n",
            "Época: 4/4, batch: 0/1, Loss: 0.35559409856796265\n",
            "Época: 4/4, batch: 1/1, Loss: 0.4424358606338501\n",
            "Treinando com batch_size=256\n",
            "Época: 0/4, batch: 0/0, Loss: 0.31532761454582214\n",
            "Época: 1/4, batch: 0/0, Loss: 0.275749146938324\n",
            "Época: 2/4, batch: 0/0, Loss: 0.2539803981781006\n",
            "Época: 3/4, batch: 0/0, Loss: 0.2355218529701233\n",
            "Época: 4/4, batch: 0/0, Loss: 0.2193848043680191\n",
            "Treinando com batch_size=512\n",
            "Época: 0/4, batch: 0/0, Loss: 0.20515373349189758\n",
            "Época: 1/4, batch: 0/0, Loss: 0.19252486526966095\n",
            "Época: 2/4, batch: 0/0, Loss: 0.18125514686107635\n",
            "Época: 3/4, batch: 0/0, Loss: 0.17114651203155518\n",
            "Época: 4/4, batch: 0/0, Loss: 0.1620362102985382\n"
          ]
        },
        {
          "output_type": "display_data",
          "data": {
            "text/plain": [
              "<Figure size 1200x800 with 1 Axes>"
            ],
            "image/png": "[encoded data removed]"
          },
          "metadata": {}
        }
      ]
    },
    {
      "cell_type": "markdown",
      "source": [
        "estamos utilizando apenas os primeiros 100 exemplos do MNIST para treinamento. Isso reduz drasticamente o tamanho do conjunto de dados, o que resulta em tempos de treinamento muito mais curtos, ideal para experimentações rápidas e comparações de tamanhos de minibatch."
      ],
      "metadata": {
        "id": "g_BAA0twV_11"
      }
    },
    {
      "cell_type": "markdown",
      "metadata": {
        "id": "Dite8MBJl-fn"
      },
      "source": [
        "## Conclusões sobre os experimentos deste notebook\n"
      ]
    }
  ],
  "metadata": {
    "accelerator": "GPU",
    "colab": {
      "provenance": [],
      "gpuType": "T4"
    },
    "kernelspec": {
      "display_name": "Python 3",
      "name": "python3"
    },
    "language_info": {
      "name": "python",
      "version": "3.10.2"
    },
    "vscode": {
      "interpreter": {
        "hash": "5fe3e6f0cdaab8afdc61c52912fda83f7c0a71baaea1897dd7498e2df01e69ec"
      }
    }
  },
  "nbformat": 4,
  "nbformat_minor": 0
}