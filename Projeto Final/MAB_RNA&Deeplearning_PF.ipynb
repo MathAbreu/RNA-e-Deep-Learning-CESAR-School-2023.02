{
  "nbformat": 4,
  "nbformat_minor": 0,
  "metadata": {
    "colab": {
      "provenance": []
    },
    "kernelspec": {
      "name": "python3",
      "display_name": "Python 3"
    },
    "language_info": {
      "name": "python"
    }
  },
  "cells": [
    {
      "cell_type": "markdown",
      "source": [
        "#Grupo M\n",
        "\n",
        "\n",
        "1.   Matheus Barreto\n",
        "\n",
        "2.   \n",
        "\n",
        "Kaggle: https://www.kaggle.com/datasets/muratkokludataset/date-fruit-datasets/data"
      ],
      "metadata": {
        "id": "IcH8-uzcUcgR"
      }
    },
    {
      "cell_type": "markdown",
      "source": [
        "#Projeto Final\n",
        "\n",
        "\n",
        "\n",
        "O Projeto Final dessa Disciplina consistirá na escolha de um Dataset e realização do treinamento de um modelo que resolva o dataset escolhido utilizando Redes Neurais (sem Convolução).\n",
        "\n",
        "Você tem a liberdade de escolher qualquer dataset, entretanto, atente-se para a complexidade não ser mutio alta e você conseguir resolver sem utilização de redes profundas. Eu também listo abaixo alguns datasets interessantes que podem escolher, se desejarem:\n"
      ],
      "metadata": {
        "id": "DJ3qzH_RT8ts"
      }
    },
    {
      "cell_type": "markdown",
      "source": [
        "##Must Do\n",
        "1.   O carregamento do dataset e quaisquer manipulações que ache necessário fazer com os dados\n",
        "\n",
        "2.   A definição do modelo de redes neurais utilizada para treinar o modelo\n",
        "\n",
        "3.   O treinamento do modelo\n",
        "\n",
        "4.   Uma análise simples da performance com no mínimo acurária e perda (ou pode adicionar outras métricas, como matriz de confusão, outros gráficos etc)\n",
        "\n",
        "5.   Depois do treinamento, você deve escrever no mínimo um parágrafo explicando como foi o processo e sua experiência: quais dificuldades teve, se teve overfitting ou underfitting e se teve que fazer ajustes etc.\n",
        "\n",
        "6. Fazer o upload desse notebook no seu repositório do GitHub, dentro de uma pasta chamada \"Trabalho Final\". Submeter o link para o arquivo no Github nessa entrega.\n"
      ],
      "metadata": {
        "id": "9AswRanqUXF_"
      }
    },
    {
      "cell_type": "markdown",
      "source": [
        "##  Importações / Instalações"
      ],
      "metadata": {
        "id": "1_UMIivpXKHi"
      }
    },
    {
      "cell_type": "code",
      "source": [
        "import pandas as pd\n",
        "import numpy as np\n",
        "import matplotlib.pyplot as plt\n",
        "import seaborn as sns\n",
        "import tensorflow as tf\n",
        "from sklearn.model_selection import train_test_split\n",
        "from sklearn.preprocessing import LabelEncoder, StandardScaler\n",
        "from sklearn.metrics import accuracy_score, confusion_matrix, classification_report\n",
        "from tensorflow.keras.models import Sequential\n",
        "from tensorflow.keras.layers import Dense, Dropout\n"
      ],
      "metadata": {
        "id": "QTL4dRlMT8dM"
      },
      "execution_count": null,
      "outputs": []
    },
    {
      "cell_type": "markdown",
      "source": [
        "#(1) Carregamento do dataset"
      ],
      "metadata": {
        "id": "M1cgNc2eWOXy"
      }
    },
    {
      "cell_type": "code",
      "execution_count": null,
      "metadata": {
        "id": "QurLFuKYTiW_",
        "colab": {
          "base_uri": "https://localhost:8080/"
        },
        "outputId": "5263a387-c403-443c-ba74-1e4da66c130d"
      },
      "outputs": [
        {
          "output_type": "stream",
          "name": "stdout",
          "text": [
            "Drive already mounted at /content/drive; to attempt to forcibly remount, call drive.mount(\"/content/drive\", force_remount=True).\n"
          ]
        }
      ],
      "source": [
        "from google.colab import drive\n",
        "\n",
        "# Monta o Google Drive\n",
        "drive.mount('/content/drive')\n"
      ]
    },
    {
      "cell_type": "code",
      "source": [
        "file_path_fruit = '/content/drive/MyDrive/Dataset/Date_Fruit_Datasets.xlsx'\n",
        "df = pd.read_excel(file_path_fruit)\n",
        "\n",
        "print(df.head())"
      ],
      "metadata": {
        "id": "xIYxcRZNXU19",
        "colab": {
          "base_uri": "https://localhost:8080/"
        },
        "outputId": "32f5e7e0-cc72-4838-de34-e9b3f9f3c064"
      },
      "execution_count": null,
      "outputs": [
        {
          "output_type": "stream",
          "name": "stdout",
          "text": [
            "     AREA  PERIMETER  MAJOR_AXIS  MINOR_AXIS  ECCENTRICITY   EQDIASQ  \\\n",
            "0  422163   2378.908    837.8484    645.6693        0.6373  733.1539   \n",
            "1  338136   2085.144    723.8198    595.2073        0.5690  656.1464   \n",
            "2  526843   2647.394    940.7379    715.3638        0.6494  819.0222   \n",
            "3  416063   2351.210    827.9804    645.2988        0.6266  727.8378   \n",
            "4  347562   2160.354    763.9877    582.8359        0.6465  665.2291   \n",
            "\n",
            "   SOLIDITY  CONVEX_AREA  EXTENT  ASPECT_RATIO  ...  KurtosisRR  KurtosisRG  \\\n",
            "0    0.9947       424428  0.7831        1.2976  ...      3.2370      2.9574   \n",
            "1    0.9974       339014  0.7795        1.2161  ...      2.6228      2.6350   \n",
            "2    0.9962       528876  0.7657        1.3150  ...      3.7516      3.8611   \n",
            "3    0.9948       418255  0.7759        1.2831  ...      5.0401      8.6136   \n",
            "4    0.9908       350797  0.7569        1.3108  ...      2.7016      2.9761   \n",
            "\n",
            "   KurtosisRB    EntropyRR    EntropyRG    EntropyRB  ALLdaub4RR  ALLdaub4RG  \\\n",
            "0      4.2287 -59191263232 -50714214400 -39922372608     58.7255     54.9554   \n",
            "1      3.1704 -34233065472 -37462601728 -31477794816     50.0259     52.8168   \n",
            "2      4.7192 -93948354560 -74738221056 -60311207936     65.4772     59.2860   \n",
            "3      8.2618 -32074307584 -32060925952 -29575010304     43.3900     44.1259   \n",
            "4      4.4146 -39980974080 -35980042240 -25593278464     52.7743     50.9080   \n",
            "\n",
            "   ALLdaub4RB  Class  \n",
            "0     47.8400  BERHI  \n",
            "1     47.8315  BERHI  \n",
            "2     51.9378  BERHI  \n",
            "3     41.1882  BERHI  \n",
            "4     42.6666  BERHI  \n",
            "\n",
            "[5 rows x 35 columns]\n"
          ]
        }
      ]
    },
    {
      "cell_type": "markdown",
      "source": [
        "# (1.) Manipulação de dados"
      ],
      "metadata": {
        "id": "TckbampVXPrv"
      }
    },
    {
      "cell_type": "code",
      "source": [
        "# Verificar se há valores nulos\n",
        "print(df.isnull().sum())\n"
      ],
      "metadata": {
        "colab": {
          "base_uri": "https://localhost:8080/"
        },
        "id": "mDqCEaPJII_K",
        "outputId": "eed84dfe-2bd1-410b-e84a-12e3da0b669e"
      },
      "execution_count": null,
      "outputs": [
        {
          "output_type": "stream",
          "name": "stdout",
          "text": [
            "AREA             0\n",
            "PERIMETER        0\n",
            "MAJOR_AXIS       0\n",
            "MINOR_AXIS       0\n",
            "ECCENTRICITY     0\n",
            "EQDIASQ          0\n",
            "SOLIDITY         0\n",
            "CONVEX_AREA      0\n",
            "EXTENT           0\n",
            "ASPECT_RATIO     0\n",
            "ROUNDNESS        0\n",
            "COMPACTNESS      0\n",
            "SHAPEFACTOR_1    0\n",
            "SHAPEFACTOR_2    0\n",
            "SHAPEFACTOR_3    0\n",
            "SHAPEFACTOR_4    0\n",
            "MeanRR           0\n",
            "MeanRG           0\n",
            "MeanRB           0\n",
            "StdDevRR         0\n",
            "StdDevRG         0\n",
            "StdDevRB         0\n",
            "SkewRR           0\n",
            "SkewRG           0\n",
            "SkewRB           0\n",
            "KurtosisRR       0\n",
            "KurtosisRG       0\n",
            "KurtosisRB       0\n",
            "EntropyRR        0\n",
            "EntropyRG        0\n",
            "EntropyRB        0\n",
            "ALLdaub4RR       0\n",
            "ALLdaub4RG       0\n",
            "ALLdaub4RB       0\n",
            "Class            0\n",
            "dtype: int64\n"
          ]
        }
      ]
    },
    {
      "cell_type": "code",
      "source": [
        "print(\"Shape do DataFrame:\")\n",
        "print(df.shape)"
      ],
      "metadata": {
        "colab": {
          "base_uri": "https://localhost:8080/"
        },
        "id": "wMWGHrOZXTaZ",
        "outputId": "ab686fb7-4ed2-473e-9b3b-7d617f07f2c4"
      },
      "execution_count": null,
      "outputs": [
        {
          "output_type": "stream",
          "name": "stdout",
          "text": [
            "Shape do DataFrame:\n",
            "(898, 35)\n"
          ]
        }
      ]
    },
    {
      "cell_type": "code",
      "source": [
        "df['Class'].value_counts()"
      ],
      "metadata": {
        "colab": {
          "base_uri": "https://localhost:8080/"
        },
        "id": "66BzGnIuFLYp",
        "outputId": "cd3afdfe-2812-4737-bd4b-285d8a61cd74"
      },
      "execution_count": null,
      "outputs": [
        {
          "output_type": "execute_result",
          "data": {
            "text/plain": [
              "Class\n",
              "DOKOL     204\n",
              "SAFAVI    199\n",
              "ROTANA    166\n",
              "DEGLET     98\n",
              "SOGAY      94\n",
              "IRAQI      72\n",
              "BERHI      65\n",
              "Name: count, dtype: int64"
            ]
          },
          "metadata": {},
          "execution_count": 29
        }
      ]
    },
    {
      "cell_type": "code",
      "source": [
        "print(df.dtypes)"
      ],
      "metadata": {
        "colab": {
          "base_uri": "https://localhost:8080/"
        },
        "id": "hfcN3adWXtHw",
        "outputId": "ebdc957d-9dd0-42db-97e2-b5a5fec209d6"
      },
      "execution_count": null,
      "outputs": [
        {
          "output_type": "stream",
          "name": "stdout",
          "text": [
            "AREA               int64\n",
            "PERIMETER        float64\n",
            "MAJOR_AXIS       float64\n",
            "MINOR_AXIS       float64\n",
            "ECCENTRICITY     float64\n",
            "EQDIASQ          float64\n",
            "SOLIDITY         float64\n",
            "CONVEX_AREA        int64\n",
            "EXTENT           float64\n",
            "ASPECT_RATIO     float64\n",
            "ROUNDNESS        float64\n",
            "COMPACTNESS      float64\n",
            "SHAPEFACTOR_1    float64\n",
            "SHAPEFACTOR_2    float64\n",
            "SHAPEFACTOR_3    float64\n",
            "SHAPEFACTOR_4    float64\n",
            "MeanRR           float64\n",
            "MeanRG           float64\n",
            "MeanRB           float64\n",
            "StdDevRR         float64\n",
            "StdDevRG         float64\n",
            "StdDevRB         float64\n",
            "SkewRR           float64\n",
            "SkewRG           float64\n",
            "SkewRB           float64\n",
            "KurtosisRR       float64\n",
            "KurtosisRG       float64\n",
            "KurtosisRB       float64\n",
            "EntropyRR          int64\n",
            "EntropyRG          int64\n",
            "EntropyRB          int64\n",
            "ALLdaub4RR       float64\n",
            "ALLdaub4RG       float64\n",
            "ALLdaub4RB       float64\n",
            "Class             object\n",
            "dtype: object\n"
          ]
        }
      ]
    },
    {
      "cell_type": "code",
      "source": [
        "desc_stats = df.describe()\n",
        "print(desc_stats)"
      ],
      "metadata": {
        "colab": {
          "base_uri": "https://localhost:8080/"
        },
        "id": "7-UG9eM5X1bJ",
        "outputId": "d0b4de6f-8961-4ddd-de7c-6a593c0ac10a"
      },
      "execution_count": null,
      "outputs": [
        {
          "output_type": "stream",
          "name": "stdout",
          "text": [
            "                AREA    PERIMETER   MAJOR_AXIS  MINOR_AXIS  ECCENTRICITY  \\\n",
            "count     898.000000   898.000000   898.000000  898.000000    898.000000   \n",
            "mean   298295.207127  2057.660953   750.811994  495.872785      0.737468   \n",
            "std    107245.205337   410.012459   144.059326  114.268917      0.088727   \n",
            "min      1987.000000   911.828000   336.722700    2.283200      0.344800   \n",
            "25%    206948.000000  1726.091500   641.068650  404.684375      0.685625   \n",
            "50%    319833.000000  2196.345450   791.363400  495.054850      0.754700   \n",
            "75%    382573.000000  2389.716575   858.633750  589.031700      0.802150   \n",
            "max    546063.000000  2811.997100  1222.723000  766.453600      1.000000   \n",
            "\n",
            "          EQDIASQ    SOLIDITY    CONVEX_AREA      EXTENT  ASPECT_RATIO  ...  \\\n",
            "count  898.000000  898.000000     898.000000  898.000000    898.000000  ...   \n",
            "mean   604.577938    0.981840  303845.592428    0.736267      2.131102  ...   \n",
            "std    119.593888    0.018157  108815.656947    0.053745     17.820778  ...   \n",
            "min     50.298400    0.836600    2257.000000    0.512300      1.065300  ...   \n",
            "25%    513.317075    0.978825  210022.750000    0.705875      1.373725  ...   \n",
            "50%    638.140950    0.987300  327207.000000    0.746950      1.524150  ...   \n",
            "75%    697.930525    0.991800  388804.000000    0.775850      1.674750  ...   \n",
            "max    833.827900    0.997400  552598.000000    0.856200    535.525700  ...   \n",
            "\n",
            "           SkewRB  KurtosisRR  KurtosisRG  KurtosisRB     EntropyRR  \\\n",
            "count  898.000000  898.000000  898.000000  898.000000  8.980000e+02   \n",
            "mean     0.250518    4.247845    5.110894    3.780928 -3.185021e+10   \n",
            "std      0.632918    2.892357    3.745463    2.049831  2.037241e+10   \n",
            "min     -1.029100    1.708200    1.607600    1.767200 -1.091224e+11   \n",
            "25%     -0.196950    2.536625    2.508850    2.577275 -4.429444e+10   \n",
            "50%      0.135550    3.069800    3.127800    3.080700 -2.826156e+10   \n",
            "75%      0.593950    4.449850    7.320400    4.283125 -1.460482e+10   \n",
            "max      3.092300   26.171100   26.736700   32.249500 -1.627316e+08   \n",
            "\n",
            "          EntropyRG     EntropyRB  ALLdaub4RR  ALLdaub4RG  ALLdaub4RB  \n",
            "count  8.980000e+02  8.980000e+02  898.000000  898.000000  898.000000  \n",
            "mean  -2.901860e+10 -2.771876e+10   50.082888   48.805681   48.098393  \n",
            "std    1.712952e+10  1.484137e+10   16.063125   14.125911   10.813862  \n",
            "min   -9.261697e+10 -8.747177e+10   15.191100   20.524700   22.130000  \n",
            "25%   -3.894638e+10 -3.564534e+10   38.224425   38.654525   39.250725  \n",
            "50%   -2.620990e+10 -2.392928e+10   53.841300   50.337800   49.614100  \n",
            "75%   -1.433105e+10 -1.660367e+10   63.063350   59.573600   56.666675  \n",
            "max   -5.627727e+08 -4.370435e+08   79.828900   83.064900   74.104600  \n",
            "\n",
            "[8 rows x 34 columns]\n"
          ]
        }
      ]
    },
    {
      "cell_type": "code",
      "source": [
        "# Verificação de valores NA\n",
        "missing_counts = df.isna().sum()\n",
        "print(\"Quantidade de valores ausentes por coluna:\\n\", missing_counts)"
      ],
      "metadata": {
        "colab": {
          "base_uri": "https://localhost:8080/"
        },
        "id": "fYwTCwqDX5xQ",
        "outputId": "f89fd874-c99c-4813-a70b-cf8269971b58"
      },
      "execution_count": null,
      "outputs": [
        {
          "output_type": "stream",
          "name": "stdout",
          "text": [
            "Quantidade de valores ausentes por coluna:\n",
            " AREA             0\n",
            "PERIMETER        0\n",
            "MAJOR_AXIS       0\n",
            "MINOR_AXIS       0\n",
            "ECCENTRICITY     0\n",
            "EQDIASQ          0\n",
            "SOLIDITY         0\n",
            "CONVEX_AREA      0\n",
            "EXTENT           0\n",
            "ASPECT_RATIO     0\n",
            "ROUNDNESS        0\n",
            "COMPACTNESS      0\n",
            "SHAPEFACTOR_1    0\n",
            "SHAPEFACTOR_2    0\n",
            "SHAPEFACTOR_3    0\n",
            "SHAPEFACTOR_4    0\n",
            "MeanRR           0\n",
            "MeanRG           0\n",
            "MeanRB           0\n",
            "StdDevRR         0\n",
            "StdDevRG         0\n",
            "StdDevRB         0\n",
            "SkewRR           0\n",
            "SkewRG           0\n",
            "SkewRB           0\n",
            "KurtosisRR       0\n",
            "KurtosisRG       0\n",
            "KurtosisRB       0\n",
            "EntropyRR        0\n",
            "EntropyRG        0\n",
            "EntropyRB        0\n",
            "ALLdaub4RR       0\n",
            "ALLdaub4RG       0\n",
            "ALLdaub4RB       0\n",
            "Class            0\n",
            "dtype: int64\n"
          ]
        }
      ]
    },
    {
      "cell_type": "code",
      "source": [
        "df['Class']"
      ],
      "metadata": {
        "colab": {
          "base_uri": "https://localhost:8080/"
        },
        "id": "bKXiuUXNH4A7",
        "outputId": "07f01742-bd18-4d4b-f43b-2674954e1c62"
      },
      "execution_count": null,
      "outputs": [
        {
          "output_type": "execute_result",
          "data": {
            "text/plain": [
              "0      BERHI\n",
              "1      BERHI\n",
              "2      BERHI\n",
              "3      BERHI\n",
              "4      BERHI\n",
              "       ...  \n",
              "893    SOGAY\n",
              "894    SOGAY\n",
              "895    SOGAY\n",
              "896    SOGAY\n",
              "897    SOGAY\n",
              "Name: Class, Length: 898, dtype: object"
            ]
          },
          "metadata": {},
          "execution_count": 33
        }
      ]
    },
    {
      "cell_type": "markdown",
      "source": [
        "##Padronização dos dados"
      ],
      "metadata": {
        "id": "NjiW6imSMkI6"
      }
    },
    {
      "cell_type": "code",
      "source": [
        "# Padronizar as colunas numéricas\n",
        "numeric_columns = df.columns.difference(['Class'])\n",
        "scaler = StandardScaler()\n",
        "df[numeric_columns] = scaler.fit_transform(df[numeric_columns])\n",
        "\n",
        "# Codificar a variável Class\n",
        "label_encoder = LabelEncoder()\n",
        "df['Class'] = label_encoder.fit_transform(df['Class'])\n",
        "\n",
        "# Verificar os dados após a padronização e codificação\n",
        "print(df.head())\n",
        "print(df['Class'].unique())"
      ],
      "metadata": {
        "colab": {
          "base_uri": "https://localhost:8080/"
        },
        "id": "RlpV4gkKMSRb",
        "outputId": "816e6db6-9212-4605-ea55-45581daa4d65"
      },
      "execution_count": null,
      "outputs": [
        {
          "output_type": "stream",
          "name": "stdout",
          "text": [
            "       AREA  PERIMETER  MAJOR_AXIS  MINOR_AXIS  ECCENTRICITY   EQDIASQ  \\\n",
            "0  1.155640   0.783942    0.604507    1.311643     -1.129568  1.075704   \n",
            "1  0.371700   0.067067   -0.187473    0.869789     -1.899771  0.431437   \n",
            "2  2.132265   1.439131    1.319121    1.921899     -0.993119  1.794103   \n",
            "3  1.098729   0.716350    0.535970    1.308399     -1.250230  1.031228   \n",
            "4  0.459641   0.250603    0.091511    0.761463     -1.025822  0.507425   \n",
            "\n",
            "   SOLIDITY  CONVEX_AREA    EXTENT  ASPECT_RATIO  ...  KurtosisRR  KurtosisRG  \\\n",
            "0  0.708628     1.108752  0.871873     -0.046797  ...   -0.349683   -0.575281   \n",
            "1  0.857410     0.323373  0.804852     -0.051373  ...   -0.562154   -0.661407   \n",
            "2  0.791285     2.069149  0.547942     -0.045820  ...   -0.171667   -0.333868   \n",
            "3  0.714138     1.051992  0.737832     -0.047612  ...    0.274066    0.935707   \n",
            "4  0.493720     0.431717  0.384115     -0.046056  ...   -0.534895   -0.570286   \n",
            "\n",
            "   KurtosisRB  EntropyRR  EntropyRG  EntropyRB  ALLdaub4RR  ALLdaub4RG  \\\n",
            "0    0.218565  -1.342811  -1.267269  -0.822728    0.538340    0.435593   \n",
            "1   -0.298009  -0.117030  -0.493225  -0.253422   -0.003550    0.284113   \n",
            "2    0.457986  -3.049848  -2.670541  -2.197277    0.958897    0.742335   \n",
            "3    2.187189  -0.011006  -0.177706  -0.125142   -0.416894   -0.331475   \n",
            "4    0.309306  -0.399329  -0.406627   0.143293    0.167646    0.148910   \n",
            "\n",
            "   ALLdaub4RB  Class  \n",
            "0   -0.023908      0  \n",
            "1   -0.024694      0  \n",
            "2    0.355243      0  \n",
            "3   -0.639369      0  \n",
            "4   -0.502579      0  \n",
            "\n",
            "[5 rows x 35 columns]\n",
            "[0 1 2 3 4 5 6]\n"
          ]
        }
      ]
    },
    {
      "cell_type": "markdown",
      "source": [
        "##Remoção de colunas desnecessárias"
      ],
      "metadata": {
        "id": "fV2Ud6GaIR2o"
      }
    },
    {
      "cell_type": "code",
      "source": [
        "columns_to_remove_low_variance = ['SkewRB', 'SkewRR', 'SkewRG',\n",
        "                   'KurtosisRB', 'KurtosisRR', 'KurtosisRG',\n",
        "                   'EntropyRB', 'EntropyRR', 'EntropyRG', 'SHAPEFACTOR_2', 'SOLIDITY', 'SHAPEFACTOR_1', 'SHAPEFACTOR_4']\n",
        "\n",
        "df_clean = df.drop(columns=columns_to_remove_low_variance)\n",
        "\n",
        "print(f\"Colunas removidas: {columns_to_remove_low_variance}\")\n",
        "print(f\"Dimensões do dataframe original: {df.shape}\")\n",
        "print(f\"Dimensões do dataframe reduzido: {df_reduced.shape}\")\n"
      ],
      "metadata": {
        "colab": {
          "base_uri": "https://localhost:8080/"
        },
        "id": "gcPvzBR4J7Pm",
        "outputId": "300e6e4e-e065-4eac-e1c1-0f26428a8995"
      },
      "execution_count": null,
      "outputs": [
        {
          "output_type": "stream",
          "name": "stdout",
          "text": [
            "Colunas removidas: ['SkewRB', 'SkewRR', 'SkewRG', 'KurtosisRB', 'KurtosisRR', 'KurtosisRG', 'EntropyRB', 'EntropyRR', 'EntropyRG', 'SHAPEFACTOR_2', 'SOLIDITY', 'SHAPEFACTOR_1', 'SHAPEFACTOR_4']\n",
            "Dimensões do dataframe original: (898, 35)\n",
            "Dimensões do dataframe reduzido: (898, 22)\n"
          ]
        }
      ]
    },
    {
      "cell_type": "markdown",
      "source": [
        "##A definição do modelo de redes neurais utilizada para treinar o modelo / O treinamento do modelo"
      ],
      "metadata": {
        "id": "KCrwYyodZOMp"
      }
    },
    {
      "cell_type": "code",
      "source": [
        "import tensorflow as tf\n",
        "from tensorflow.keras.models import Sequential\n",
        "from tensorflow.keras.layers import Dense, Dropout\n",
        "from sklearn.model_selection import train_test_split"
      ],
      "metadata": {
        "id": "AhzKrRuCTQSP"
      },
      "execution_count": null,
      "outputs": []
    },
    {
      "cell_type": "code",
      "source": [
        "X = df_clean.drop(columns=['Class'])\n",
        "y = df_clean['Class']\n",
        "\n",
        "# Dividir os dados em conjunto de treino e teste\n",
        "X_train, X_test, y_train, y_test = train_test_split(X, y, test_size=0.2, random_state=42)\n"
      ],
      "metadata": {
        "id": "byQCNKXdTSDB"
      },
      "execution_count": null,
      "outputs": []
    },
    {
      "cell_type": "code",
      "source": [
        "model = Sequential()\n",
        "\n",
        "model.add(Dense(64, activation='relu', input_shape=(X_train.shape[1],)))\n",
        "model.add(Dropout(0.2))  # Dropout para evitar overfitting\n",
        "\n",
        "# Adicionar mais uma camada oculta\n",
        "model.add(Dense(32, activation='relu'))\n",
        "model.add(Dropout(0.2))\n",
        "\n",
        "# Adicionar a camada de saída\n",
        "model.add(Dense(len(df_clean['Class'].unique()), activation='softmax'))\n",
        "\n",
        "model.compile(optimizer='adam', loss='sparse_categorical_crossentropy', metrics=['accuracy'])\n",
        "model.summary()\n"
      ],
      "metadata": {
        "colab": {
          "base_uri": "https://localhost:8080/"
        },
        "id": "C9_wtf8LTkQV",
        "outputId": "69c7b712-9077-4b27-b6aa-c99a6dbb462d"
      },
      "execution_count": null,
      "outputs": [
        {
          "output_type": "stream",
          "name": "stdout",
          "text": [
            "Model: \"sequential_3\"\n",
            "_________________________________________________________________\n",
            " Layer (type)                Output Shape              Param #   \n",
            "=================================================================\n",
            " dense_9 (Dense)             (None, 64)                1408      \n",
            "                                                                 \n",
            " dropout_2 (Dropout)         (None, 64)                0         \n",
            "                                                                 \n",
            " dense_10 (Dense)            (None, 32)                2080      \n",
            "                                                                 \n",
            " dropout_3 (Dropout)         (None, 32)                0         \n",
            "                                                                 \n",
            " dense_11 (Dense)            (None, 7)                 231       \n",
            "                                                                 \n",
            "=================================================================\n",
            "Total params: 3719 (14.53 KB)\n",
            "Trainable params: 3719 (14.53 KB)\n",
            "Non-trainable params: 0 (0.00 Byte)\n",
            "_________________________________________________________________\n"
          ]
        }
      ]
    },
    {
      "cell_type": "markdown",
      "source": [
        "##Treinamento do modelo"
      ],
      "metadata": {
        "id": "o1eQU8JI3FSY"
      }
    },
    {
      "cell_type": "markdown",
      "source": [
        "epochs=50: Define o número de vezes que o modelo será treinado com o conjunto de dados completo.\n",
        "\n",
        "batch_size=32: Especifica o número de amostras que serão usadas para atualizar os pesos do modelo a cada iteração durante o treinamento."
      ],
      "metadata": {
        "id": "HYh96bA9UAmC"
      }
    },
    {
      "cell_type": "code",
      "source": [
        "history = model.fit(X_train, y_train, epochs=50, batch_size=32, validation_data=(X_test, y_test))"
      ],
      "metadata": {
        "colab": {
          "base_uri": "https://localhost:8080/"
        },
        "id": "LIsK1wWKTw2_",
        "outputId": "80941307-2d59-4a80-e8f2-fa326a51d95c"
      },
      "execution_count": null,
      "outputs": [
        {
          "output_type": "stream",
          "name": "stdout",
          "text": [
            "Epoch 1/50\n",
            "23/23 [==============================] - 1s 14ms/step - loss: 1.7391 - accuracy: 0.3802 - val_loss: 1.3135 - val_accuracy: 0.6444\n",
            "Epoch 2/50\n",
            "23/23 [==============================] - 0s 3ms/step - loss: 1.2681 - accuracy: 0.5975 - val_loss: 0.9517 - val_accuracy: 0.6667\n",
            "Epoch 3/50\n",
            "23/23 [==============================] - 0s 3ms/step - loss: 0.9783 - accuracy: 0.6546 - val_loss: 0.7628 - val_accuracy: 0.7222\n",
            "Epoch 4/50\n",
            "23/23 [==============================] - 0s 3ms/step - loss: 0.8137 - accuracy: 0.7033 - val_loss: 0.6567 - val_accuracy: 0.7333\n",
            "Epoch 5/50\n",
            "23/23 [==============================] - 0s 4ms/step - loss: 0.7113 - accuracy: 0.7312 - val_loss: 0.5852 - val_accuracy: 0.7500\n",
            "Epoch 6/50\n",
            "23/23 [==============================] - 0s 3ms/step - loss: 0.6652 - accuracy: 0.7577 - val_loss: 0.5416 - val_accuracy: 0.7722\n",
            "Epoch 7/50\n",
            "23/23 [==============================] - 0s 4ms/step - loss: 0.6373 - accuracy: 0.7563 - val_loss: 0.5052 - val_accuracy: 0.7944\n",
            "Epoch 8/50\n",
            "23/23 [==============================] - 0s 4ms/step - loss: 0.5857 - accuracy: 0.7674 - val_loss: 0.4810 - val_accuracy: 0.8056\n",
            "Epoch 9/50\n",
            "23/23 [==============================] - 0s 5ms/step - loss: 0.5522 - accuracy: 0.7730 - val_loss: 0.4594 - val_accuracy: 0.8222\n",
            "Epoch 10/50\n",
            "23/23 [==============================] - 0s 4ms/step - loss: 0.5291 - accuracy: 0.7841 - val_loss: 0.4436 - val_accuracy: 0.8333\n",
            "Epoch 11/50\n",
            "23/23 [==============================] - 0s 4ms/step - loss: 0.4924 - accuracy: 0.8078 - val_loss: 0.4143 - val_accuracy: 0.8556\n",
            "Epoch 12/50\n",
            "23/23 [==============================] - 0s 4ms/step - loss: 0.4845 - accuracy: 0.8092 - val_loss: 0.4177 - val_accuracy: 0.8444\n",
            "Epoch 13/50\n",
            "23/23 [==============================] - 0s 4ms/step - loss: 0.4651 - accuracy: 0.8064 - val_loss: 0.4093 - val_accuracy: 0.8444\n",
            "Epoch 14/50\n",
            "23/23 [==============================] - 0s 3ms/step - loss: 0.4715 - accuracy: 0.8008 - val_loss: 0.3948 - val_accuracy: 0.8611\n",
            "Epoch 15/50\n",
            "23/23 [==============================] - 0s 3ms/step - loss: 0.4658 - accuracy: 0.8120 - val_loss: 0.4053 - val_accuracy: 0.8389\n",
            "Epoch 16/50\n",
            "23/23 [==============================] - 0s 3ms/step - loss: 0.4491 - accuracy: 0.8148 - val_loss: 0.3788 - val_accuracy: 0.8611\n",
            "Epoch 17/50\n",
            "23/23 [==============================] - 0s 3ms/step - loss: 0.4397 - accuracy: 0.8092 - val_loss: 0.3846 - val_accuracy: 0.8556\n",
            "Epoch 18/50\n",
            "23/23 [==============================] - 0s 3ms/step - loss: 0.4345 - accuracy: 0.8245 - val_loss: 0.3703 - val_accuracy: 0.8722\n",
            "Epoch 19/50\n",
            "23/23 [==============================] - 0s 5ms/step - loss: 0.4171 - accuracy: 0.8412 - val_loss: 0.3651 - val_accuracy: 0.8667\n",
            "Epoch 20/50\n",
            "23/23 [==============================] - 0s 4ms/step - loss: 0.3774 - accuracy: 0.8496 - val_loss: 0.3502 - val_accuracy: 0.8778\n",
            "Epoch 21/50\n",
            "23/23 [==============================] - 0s 4ms/step - loss: 0.3990 - accuracy: 0.8412 - val_loss: 0.3435 - val_accuracy: 0.8722\n",
            "Epoch 22/50\n",
            "23/23 [==============================] - 0s 5ms/step - loss: 0.3731 - accuracy: 0.8649 - val_loss: 0.3475 - val_accuracy: 0.8722\n",
            "Epoch 23/50\n",
            "23/23 [==============================] - 0s 3ms/step - loss: 0.3944 - accuracy: 0.8426 - val_loss: 0.3382 - val_accuracy: 0.8778\n",
            "Epoch 24/50\n",
            "23/23 [==============================] - 0s 4ms/step - loss: 0.3677 - accuracy: 0.8538 - val_loss: 0.3350 - val_accuracy: 0.8833\n",
            "Epoch 25/50\n",
            "23/23 [==============================] - 0s 4ms/step - loss: 0.3649 - accuracy: 0.8565 - val_loss: 0.3224 - val_accuracy: 0.8833\n",
            "Epoch 26/50\n",
            "23/23 [==============================] - 0s 3ms/step - loss: 0.3599 - accuracy: 0.8593 - val_loss: 0.3349 - val_accuracy: 0.8833\n",
            "Epoch 27/50\n",
            "23/23 [==============================] - 0s 3ms/step - loss: 0.3554 - accuracy: 0.8677 - val_loss: 0.3277 - val_accuracy: 0.8833\n",
            "Epoch 28/50\n",
            "23/23 [==============================] - 0s 4ms/step - loss: 0.3498 - accuracy: 0.8621 - val_loss: 0.3215 - val_accuracy: 0.8944\n",
            "Epoch 29/50\n",
            "23/23 [==============================] - 0s 4ms/step - loss: 0.3333 - accuracy: 0.8788 - val_loss: 0.2997 - val_accuracy: 0.8944\n",
            "Epoch 30/50\n",
            "23/23 [==============================] - 0s 4ms/step - loss: 0.3254 - accuracy: 0.8788 - val_loss: 0.3069 - val_accuracy: 0.9056\n",
            "Epoch 31/50\n",
            "23/23 [==============================] - 0s 5ms/step - loss: 0.3454 - accuracy: 0.8565 - val_loss: 0.3016 - val_accuracy: 0.8944\n",
            "Epoch 32/50\n",
            "23/23 [==============================] - 0s 4ms/step - loss: 0.3094 - accuracy: 0.8747 - val_loss: 0.2890 - val_accuracy: 0.9111\n",
            "Epoch 33/50\n",
            "23/23 [==============================] - 0s 4ms/step - loss: 0.3200 - accuracy: 0.8579 - val_loss: 0.2892 - val_accuracy: 0.9167\n",
            "Epoch 34/50\n",
            "23/23 [==============================] - 0s 4ms/step - loss: 0.3079 - accuracy: 0.8733 - val_loss: 0.2786 - val_accuracy: 0.9000\n",
            "Epoch 35/50\n",
            "23/23 [==============================] - 0s 3ms/step - loss: 0.2943 - accuracy: 0.8760 - val_loss: 0.2872 - val_accuracy: 0.9056\n",
            "Epoch 36/50\n",
            "23/23 [==============================] - 0s 4ms/step - loss: 0.3218 - accuracy: 0.8774 - val_loss: 0.2778 - val_accuracy: 0.9056\n",
            "Epoch 37/50\n",
            "23/23 [==============================] - 0s 4ms/step - loss: 0.3113 - accuracy: 0.8747 - val_loss: 0.2711 - val_accuracy: 0.9167\n",
            "Epoch 38/50\n",
            "23/23 [==============================] - 0s 3ms/step - loss: 0.2914 - accuracy: 0.8886 - val_loss: 0.2772 - val_accuracy: 0.9111\n",
            "Epoch 39/50\n",
            "23/23 [==============================] - 0s 3ms/step - loss: 0.2686 - accuracy: 0.8969 - val_loss: 0.2698 - val_accuracy: 0.9056\n",
            "Epoch 40/50\n",
            "23/23 [==============================] - 0s 4ms/step - loss: 0.2904 - accuracy: 0.8858 - val_loss: 0.2664 - val_accuracy: 0.9056\n",
            "Epoch 41/50\n",
            "23/23 [==============================] - 0s 4ms/step - loss: 0.2924 - accuracy: 0.8928 - val_loss: 0.2772 - val_accuracy: 0.9056\n",
            "Epoch 42/50\n",
            "23/23 [==============================] - 0s 4ms/step - loss: 0.2840 - accuracy: 0.8858 - val_loss: 0.2685 - val_accuracy: 0.9111\n",
            "Epoch 43/50\n",
            "23/23 [==============================] - 0s 3ms/step - loss: 0.2810 - accuracy: 0.8928 - val_loss: 0.2661 - val_accuracy: 0.9111\n",
            "Epoch 44/50\n",
            "23/23 [==============================] - 0s 5ms/step - loss: 0.2637 - accuracy: 0.9025 - val_loss: 0.2729 - val_accuracy: 0.9056\n",
            "Epoch 45/50\n",
            "23/23 [==============================] - 0s 4ms/step - loss: 0.2626 - accuracy: 0.8955 - val_loss: 0.2655 - val_accuracy: 0.9111\n",
            "Epoch 46/50\n",
            "23/23 [==============================] - 0s 3ms/step - loss: 0.2704 - accuracy: 0.8997 - val_loss: 0.2814 - val_accuracy: 0.9111\n",
            "Epoch 47/50\n",
            "23/23 [==============================] - 0s 4ms/step - loss: 0.2581 - accuracy: 0.9039 - val_loss: 0.2689 - val_accuracy: 0.9111\n",
            "Epoch 48/50\n",
            "23/23 [==============================] - 0s 4ms/step - loss: 0.3049 - accuracy: 0.8816 - val_loss: 0.2616 - val_accuracy: 0.9056\n",
            "Epoch 49/50\n",
            "23/23 [==============================] - 0s 4ms/step - loss: 0.2497 - accuracy: 0.9053 - val_loss: 0.2645 - val_accuracy: 0.9111\n",
            "Epoch 50/50\n",
            "23/23 [==============================] - 0s 3ms/step - loss: 0.2765 - accuracy: 0.8816 - val_loss: 0.2718 - val_accuracy: 0.9056\n"
          ]
        }
      ]
    },
    {
      "cell_type": "markdown",
      "source": [
        "##Análise do Treinamento:\n",
        "Progresso do Treinamento: Durante as 50 épocas de treinamento, a perda (loss) e a acurácia (accuracy) foram monitoradas tanto nos dados de treino quanto nos dados de validação (testes).\n",
        "\n",
        "\n",
        "*   Performance do Modelo:\n",
        "  \n",
        "  *   A acurácia no conjunto de treino começou em cerca de 38% na primeira época e aumentou para aproximadamente 88% ao final das 50 épocas.\n",
        "  *   A acurácia no conjunto de validação (testes) também mostrou um aumento gradual, começando em cerca de 64% na primeira época e chegando a 91% na última época.\n",
        "  *   Isso indica que o modelo está aprendendo bem e generalizando para dados não vistos (dados de teste).\n",
        "\n",
        "*   Curvas de Perda e Acurácia:\n",
        "  \n",
        "  *   As curvas de perda (loss) mostram uma diminuição constante tanto nos dados de treino quanto nos de validação, indicando que o modelo está melhorando sua capacidade de prever corretamente.\n",
        "  *   As curvas de acurácia (accuracy) mostram um aumento gradual, o que é esperado à medida que o modelo aprende com os dados de treino e se ajusta aos dados de validação.\n",
        "\n",
        "*   Overfitting:\n",
        "  \n",
        "  *   Não parece haver sinais claros de overfitting, já que as curvas de treino e validação seguem um padrão semelhante ao longo das épocas. O uso de dropout pode estar contribuindo para mitigar o overfitting.\n",
        "\n",
        "\n",
        "\n",
        "Isso indica que o modelo está aprendendo bem e generalizando para dados não vistos (dados de teste).\n",
        "\n"
      ],
      "metadata": {
        "id": "IeENig_HVH2L"
      }
    },
    {
      "cell_type": "code",
      "source": [
        "# Avaliar o modelo com os dados de teste\n",
        "loss, accuracy = model.evaluate(X_test, y_test)\n",
        "print(f'Acurácia do modelo nos dados de teste: {accuracy * 100:.2f}%')\n",
        "print(f'Perda do modelo nos dados de teste: {loss:.4f}')\n"
      ],
      "metadata": {
        "id": "qCceDct07gxq",
        "colab": {
          "base_uri": "https://localhost:8080/"
        },
        "outputId": "55de8402-412d-4939-a30e-a9681aa2a064"
      },
      "execution_count": null,
      "outputs": [
        {
          "output_type": "stream",
          "name": "stdout",
          "text": [
            "6/6 [==============================] - 0s 4ms/step - loss: 0.2718 - accuracy: 0.9056\n",
            "Acurácia do modelo nos dados de teste: 90.56%\n",
            "Perda do modelo nos dados de teste: 0.2718\n"
          ]
        }
      ]
    },
    {
      "cell_type": "markdown",
      "source": [
        "##Visualização das métricas de treinamento"
      ],
      "metadata": {
        "id": "dB5wanYDWFgY"
      }
    },
    {
      "cell_type": "code",
      "source": [
        "import matplotlib.pyplot as plt\n",
        "\n",
        "#perda\n",
        "plt.plot(history.history['loss'], label='train_loss')\n",
        "plt.plot(history.history['val_loss'], label='val_loss')\n",
        "plt.xlabel('Épocas')\n",
        "plt.ylabel('Perda')\n",
        "plt.legend()\n",
        "plt.show()\n",
        "\n",
        "#acurácia\n",
        "plt.plot(history.history['accuracy'], label='train_accuracy')\n",
        "plt.plot(history.history['val_accuracy'], label='val_accuracy')\n",
        "plt.xlabel('Épocas')\n",
        "plt.ylabel('Acurácia')\n",
        "plt.legend()\n",
        "plt.show()\n"
      ],
      "metadata": {
        "colab": {
          "base_uri": "https://localhost:8080/",
          "height": 888
        },
        "id": "k0fzPo44V-Lg",
        "outputId": "340327e8-f23a-41b5-c782-e15edc971100"
      },
      "execution_count": null,
      "outputs": [
        {
          "output_type": "display_data",
          "data": {
            "text/plain": [
              "<Figure size 640x480 with 1 Axes>"
            ],
            "image/png": "[encoded data removed]"
          },
          "metadata": {}
        },
        {
          "output_type": "display_data",
          "data": {
            "text/plain": [
              "<Figure size 640x480 with 1 Axes>"
            ],
            "image/png": "[encoded data removed]"
          },
          "metadata": {}
        }
      ]
    },
    {
      "cell_type": "markdown",
      "source": [
        "##Interpretação dos Resultados:\n",
        "Progresso do Treinamento: Durante as 50 épocas de treinamento, a perda (loss) e a acurácia (accuracy) foram monitoradas tanto nos dados de treino quanto nos dados de validação (testes).\n",
        "\n",
        "\n",
        "*   Acurácia: A acurácia de 90.56% significa que o modelo acertou corretamente em cerca de 90.56% dos exemplos nos dados de teste.\n",
        "  \n",
        "*   Perda: A perda de 0.2718 indica o quão bom foi o ajuste do modelo aos dados de teste, onde valores menores são melhores.\n"
      ],
      "metadata": {
        "id": "BqCjH1V8WN1_"
      }
    },
    {
      "cell_type": "markdown",
      "source": [
        "Analise da Matriz de Confusão"
      ],
      "metadata": {
        "id": "StSOfDqeWh-G"
      }
    },
    {
      "cell_type": "code",
      "source": [
        "from sklearn.metrics import confusion_matrix\n",
        "import matplotlib.pyplot as plt\n",
        "import seaborn as sns\n",
        "\n",
        "y_pred = model.predict(X_test)\n",
        "y_pred_classes = np.argmax(y_pred, axis=1)\n",
        "conf_matrix = confusion_matrix(y_test, y_pred_classes)\n",
        "\n",
        "# 3. matriz de confusão\n",
        "plt.figure(figsize=(8, 6))\n",
        "sns.heatmap(conf_matrix, annot=True, fmt='d', cmap='Blues', cbar=False)\n",
        "plt.xlabel('Predicted Labels')\n",
        "plt.ylabel('True Labels')\n",
        "plt.title('Confusion Matrix')\n",
        "plt.xticks(ticks=np.arange(len(df_clean['Class'].unique())) + 0.5,\n",
        "           labels=df_clean['Class'].unique())\n",
        "plt.yticks(ticks=np.arange(len(df_clean['Class'].unique())) + 0.5,\n",
        "           labels=df_clean['Class'].unique(), rotation=0)\n",
        "plt.show()\n"
      ],
      "metadata": {
        "colab": {
          "base_uri": "https://localhost:8080/",
          "height": 582
        },
        "id": "_xrXFOb7WCqO",
        "outputId": "aa13d3b7-63b6-4389-f244-8025f7ae3362"
      },
      "execution_count": null,
      "outputs": [
        {
          "output_type": "stream",
          "name": "stdout",
          "text": [
            "6/6 [==============================] - 0s 3ms/step\n"
          ]
        },
        {
          "output_type": "display_data",
          "data": {
            "text/plain": [
              "<Figure size 800x600 with 1 Axes>"
            ],
            "image/png": "[encoded data removed]"
          },
          "metadata": {}
        }
      ]
    },
    {
      "cell_type": "code",
      "source": [
        "import matplotlib.pyplot as plt\n",
        "\n",
        "train_loss = history.history['loss']\n",
        "val_loss = history.history['val_loss']\n",
        "train_acc = history.history['accuracy']\n",
        "val_acc = history.history['val_accuracy']\n",
        "epochs = range(1, len(train_loss) + 1)\n",
        "\n",
        "plt.figure(figsize=(12, 5))\n",
        "plt.subplot(1, 2, 1)\n",
        "plt.plot(epochs, train_loss, 'b-', label='Training Loss')\n",
        "plt.plot(epochs, val_loss, 'r-', label='Validation Loss')\n",
        "plt.title('Training and Validation Loss')\n",
        "plt.xlabel('Epochs')\n",
        "plt.ylabel('Loss')\n",
        "plt.legend()\n",
        "\n",
        "plt.subplot(1, 2, 2)\n",
        "plt.plot(epochs, train_acc, 'b-', label='Training Accuracy')\n",
        "plt.plot(epochs, val_acc, 'r-', label='Validation Accuracy')\n",
        "plt.title('Training and Validation Accuracy')\n",
        "plt.xlabel('Epochs')\n",
        "plt.ylabel('Accuracy')\n",
        "plt.legend()\n",
        "\n",
        "plt.tight_layout()\n",
        "plt.show()\n"
      ],
      "metadata": {
        "colab": {
          "base_uri": "https://localhost:8080/",
          "height": 507
        },
        "id": "3NufIn6gWeOw",
        "outputId": "05b9245c-618c-46a7-e226-fdd3ee3e379a"
      },
      "execution_count": null,
      "outputs": [
        {
          "output_type": "display_data",
          "data": {
            "text/plain": [
              "<Figure size 1200x500 with 2 Axes>"
            ],
            "image/png": "[encoded data removed]"
          },
          "metadata": {}
        }
      ]
    },
    {
      "cell_type": "markdown",
      "source": [
        "Interpretação dos Gráficos:\n",
        "\n",
        "\n",
        "Curva de Perda: Idealmente, queremos ver a perda de treinamento e validação diminuindo ao longo das épocas. Se a perda de validação começar a aumentar enquanto a perda de treinamento continua a diminuir, pode indicar overfitting.\n",
        "\n",
        "\n",
        "Curva de Acurácia: Esperamos que a acurácia de treinamento e validação aumente com o tempo. Se a acurácia de validação ficar significativamente abaixo da acurácia de treinamento, pode indicar overfitting."
      ],
      "metadata": {
        "id": "kiUKFG0nW9tR"
      }
    },
    {
      "cell_type": "markdown",
      "source": [
        "##Interpretação:\n",
        "Curva de Acurácia:\n",
        "\n",
        "O fato de a acurácia de validação não ter ficado abaixo da acurácia de treinamento é positivo.\n",
        "Isso sugere que, apesar do aumento na perda de validação, o modelo ainda está fazendo previsões corretas na maioria dos casos nos dados de validação.\n",
        "Uma acurácia de validação consistente e **alta indica que o modelo está generalizando bem.**"
      ],
      "metadata": {
        "id": "zoM5cBVPZBHa"
      }
    },
    {
      "cell_type": "markdown",
      "source": [
        "O aumento na perda de validação indica que o modelo pode não estar generalizando bem para novos dados após a época 47.\n",
        "Isso pode ser devido ao modelo começar a memorizar os dados de treinamento em vez de aprender padrões gerais que se aplicam a novos dados.\n",
        "Se o aumento não for muito abrupto e se a perda de treinamento continuar a diminuir, pode indicar que o overfitting **não é severo, mas merece atenção.**"
      ],
      "metadata": {
        "id": "QC6hRZLrZJor"
      }
    },
    {
      "cell_type": "code",
      "source": [],
      "metadata": {
        "id": "eamPNI1wW1uD"
      },
      "execution_count": null,
      "outputs": []
    }
  ]
}